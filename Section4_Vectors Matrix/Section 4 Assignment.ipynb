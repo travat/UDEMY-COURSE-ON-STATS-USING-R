{
 "cells": [
  {
   "cell_type": "markdown",
   "metadata": {},
   "source": [
    "QUESTION 1"
   ]
  },
  {
   "cell_type": "code",
   "execution_count": 2,
   "metadata": {},
   "outputs": [
    {
     "data": {
      "text/html": [
       "<style>\n",
       ".list-inline {list-style: none; margin:0; padding: 0}\n",
       ".list-inline>li {display: inline-block}\n",
       ".list-inline>li:not(:last-child)::after {content: \"\\00b7\"; padding: 0 .5ex}\n",
       "</style>\n",
       "<ol class=list-inline><li>151.2</li><li>150.2</li><li>149.2</li><li>147.5</li><li>152.9</li><li>152</li><li>151.3</li><li>149.7</li><li>149.4</li><li>150.7</li></ol>\n"
      ],
      "text/latex": [
       "\\begin{enumerate*}\n",
       "\\item 151.2\n",
       "\\item 150.2\n",
       "\\item 149.2\n",
       "\\item 147.5\n",
       "\\item 152.9\n",
       "\\item 152\n",
       "\\item 151.3\n",
       "\\item 149.7\n",
       "\\item 149.4\n",
       "\\item 150.7\n",
       "\\end{enumerate*}\n"
      ],
      "text/markdown": [
       "1. 151.2\n",
       "2. 150.2\n",
       "3. 149.2\n",
       "4. 147.5\n",
       "5. 152.9\n",
       "6. 152\n",
       "7. 151.3\n",
       "8. 149.7\n",
       "9. 149.4\n",
       "10. 150.7\n",
       "\n",
       "\n"
      ],
      "text/plain": [
       " [1] 151.2 150.2 149.2 147.5 152.9 152.0 151.3 149.7 149.4 150.7"
      ]
     },
     "metadata": {},
     "output_type": "display_data"
    }
   ],
   "source": [
    "a<-c(151.2,150.2,149.2,147.5,152.9,152,151.3,149.7,149.4,150.7)\n",
    "a"
   ]
  },
  {
   "cell_type": "code",
   "execution_count": 4,
   "metadata": {},
   "outputs": [
    {
     "data": {
      "text/html": [
       "150.41"
      ],
      "text/latex": [
       "150.41"
      ],
      "text/markdown": [
       "150.41"
      ],
      "text/plain": [
       "[1] 150.41"
      ]
     },
     "metadata": {},
     "output_type": "display_data"
    }
   ],
   "source": [
    "mean(a)"
   ]
  },
  {
   "cell_type": "markdown",
   "metadata": {},
   "source": [
    "QUESTION 2"
   ]
  },
  {
   "cell_type": "code",
   "execution_count": 27,
   "metadata": {},
   "outputs": [
    {
     "data": {
      "text/html": [
       "<style>\n",
       ".list-inline {list-style: none; margin:0; padding: 0}\n",
       ".list-inline>li {display: inline-block}\n",
       ".list-inline>li:not(:last-child)::after {content: \"\\00b7\"; padding: 0 .5ex}\n",
       "</style>\n",
       "<ol class=list-inline><li>5</li><li>7</li><li>9</li><li>11</li><li>13</li><li>15</li><li>17</li><li>19</li><li>21</li><li>23</li><li>25</li><li>27</li><li>29</li><li>31</li><li>33</li><li>35</li><li>37</li><li>39</li><li>41</li><li>43</li><li>45</li><li>47</li><li>49</li><li>51</li><li>53</li><li>55</li><li>57</li><li>59</li><li>61</li><li>63</li><li>65</li><li>67</li><li>69</li><li>71</li><li>73</li><li>75</li><li>77</li><li>79</li><li>81</li><li>83</li><li>85</li><li>87</li><li>89</li><li>91</li><li>93</li><li>95</li><li>97</li><li>99</li><li>101</li><li>103</li><li>105</li><li>107</li><li>109</li><li>111</li><li>113</li><li>115</li><li>117</li><li>119</li><li>121</li><li>123</li><li>125</li><li>127</li><li>129</li><li>131</li><li>133</li><li>135</li><li>137</li><li>139</li><li>141</li><li>143</li><li>145</li><li>147</li><li>149</li><li>151</li><li>153</li><li>155</li><li>157</li><li>159</li><li>161</li><li>163</li><li>165</li><li>167</li><li>169</li><li>171</li><li>173</li><li>175</li><li>177</li><li>179</li><li>181</li><li>183</li><li>185</li><li>187</li><li>189</li><li>191</li><li>193</li><li>195</li><li>197</li><li>199</li><li>201</li><li>203</li><li>205</li><li>207</li><li>209</li><li>211</li><li>213</li><li>215</li><li>217</li><li>219</li><li>221</li><li>223</li><li>225</li><li>227</li><li>229</li><li>231</li><li>233</li><li>235</li><li>237</li><li>239</li><li>241</li><li>243</li><li>245</li><li>247</li><li>249</li><li>251</li><li>253</li><li>255</li><li>257</li><li>259</li><li>261</li><li>263</li><li>265</li><li>267</li><li>269</li><li>271</li><li>273</li><li>275</li><li>277</li><li>279</li><li>281</li><li>283</li><li>285</li><li>287</li><li>289</li><li>291</li><li>293</li><li>295</li><li>297</li><li>299</li><li>301</li><li>303</li><li>305</li><li>307</li><li>309</li><li>311</li><li>313</li><li>315</li><li>317</li><li>319</li><li>321</li><li>323</li><li>325</li><li>327</li><li>329</li><li>331</li><li>333</li><li>335</li><li>337</li><li>339</li><li>341</li><li>343</li><li>345</li><li>347</li><li>349</li><li>351</li><li>353</li><li>355</li><li>357</li><li>359</li><li>361</li><li>363</li><li>365</li><li>367</li><li>369</li><li>371</li><li>373</li><li>375</li><li>377</li><li>379</li><li>381</li><li>383</li><li>385</li><li>387</li><li>389</li><li>391</li><li>393</li><li>395</li><li>397</li><li>399</li><li>401</li><li>403</li><li>405</li><li>407</li><li>409</li><li>411</li><li>413</li><li>415</li><li>417</li><li>419</li><li>421</li><li>423</li><li>425</li><li>427</li><li>429</li><li>431</li><li>433</li><li>435</li><li>437</li><li>439</li><li>441</li><li>443</li><li>445</li><li>447</li><li>449</li><li>451</li><li>453</li><li>455</li><li>457</li><li>459</li><li>461</li><li>463</li><li>465</li><li>467</li><li>469</li><li>471</li><li>473</li><li>475</li><li>477</li><li>479</li><li>481</li><li>483</li><li>485</li><li>487</li><li>489</li><li>491</li><li>493</li><li>495</li><li>497</li><li>499</li></ol>\n"
      ],
      "text/latex": [
       "\\begin{enumerate*}\n",
       "\\item 5\n",
       "\\item 7\n",
       "\\item 9\n",
       "\\item 11\n",
       "\\item 13\n",
       "\\item 15\n",
       "\\item 17\n",
       "\\item 19\n",
       "\\item 21\n",
       "\\item 23\n",
       "\\item 25\n",
       "\\item 27\n",
       "\\item 29\n",
       "\\item 31\n",
       "\\item 33\n",
       "\\item 35\n",
       "\\item 37\n",
       "\\item 39\n",
       "\\item 41\n",
       "\\item 43\n",
       "\\item 45\n",
       "\\item 47\n",
       "\\item 49\n",
       "\\item 51\n",
       "\\item 53\n",
       "\\item 55\n",
       "\\item 57\n",
       "\\item 59\n",
       "\\item 61\n",
       "\\item 63\n",
       "\\item 65\n",
       "\\item 67\n",
       "\\item 69\n",
       "\\item 71\n",
       "\\item 73\n",
       "\\item 75\n",
       "\\item 77\n",
       "\\item 79\n",
       "\\item 81\n",
       "\\item 83\n",
       "\\item 85\n",
       "\\item 87\n",
       "\\item 89\n",
       "\\item 91\n",
       "\\item 93\n",
       "\\item 95\n",
       "\\item 97\n",
       "\\item 99\n",
       "\\item 101\n",
       "\\item 103\n",
       "\\item 105\n",
       "\\item 107\n",
       "\\item 109\n",
       "\\item 111\n",
       "\\item 113\n",
       "\\item 115\n",
       "\\item 117\n",
       "\\item 119\n",
       "\\item 121\n",
       "\\item 123\n",
       "\\item 125\n",
       "\\item 127\n",
       "\\item 129\n",
       "\\item 131\n",
       "\\item 133\n",
       "\\item 135\n",
       "\\item 137\n",
       "\\item 139\n",
       "\\item 141\n",
       "\\item 143\n",
       "\\item 145\n",
       "\\item 147\n",
       "\\item 149\n",
       "\\item 151\n",
       "\\item 153\n",
       "\\item 155\n",
       "\\item 157\n",
       "\\item 159\n",
       "\\item 161\n",
       "\\item 163\n",
       "\\item 165\n",
       "\\item 167\n",
       "\\item 169\n",
       "\\item 171\n",
       "\\item 173\n",
       "\\item 175\n",
       "\\item 177\n",
       "\\item 179\n",
       "\\item 181\n",
       "\\item 183\n",
       "\\item 185\n",
       "\\item 187\n",
       "\\item 189\n",
       "\\item 191\n",
       "\\item 193\n",
       "\\item 195\n",
       "\\item 197\n",
       "\\item 199\n",
       "\\item 201\n",
       "\\item 203\n",
       "\\item 205\n",
       "\\item 207\n",
       "\\item 209\n",
       "\\item 211\n",
       "\\item 213\n",
       "\\item 215\n",
       "\\item 217\n",
       "\\item 219\n",
       "\\item 221\n",
       "\\item 223\n",
       "\\item 225\n",
       "\\item 227\n",
       "\\item 229\n",
       "\\item 231\n",
       "\\item 233\n",
       "\\item 235\n",
       "\\item 237\n",
       "\\item 239\n",
       "\\item 241\n",
       "\\item 243\n",
       "\\item 245\n",
       "\\item 247\n",
       "\\item 249\n",
       "\\item 251\n",
       "\\item 253\n",
       "\\item 255\n",
       "\\item 257\n",
       "\\item 259\n",
       "\\item 261\n",
       "\\item 263\n",
       "\\item 265\n",
       "\\item 267\n",
       "\\item 269\n",
       "\\item 271\n",
       "\\item 273\n",
       "\\item 275\n",
       "\\item 277\n",
       "\\item 279\n",
       "\\item 281\n",
       "\\item 283\n",
       "\\item 285\n",
       "\\item 287\n",
       "\\item 289\n",
       "\\item 291\n",
       "\\item 293\n",
       "\\item 295\n",
       "\\item 297\n",
       "\\item 299\n",
       "\\item 301\n",
       "\\item 303\n",
       "\\item 305\n",
       "\\item 307\n",
       "\\item 309\n",
       "\\item 311\n",
       "\\item 313\n",
       "\\item 315\n",
       "\\item 317\n",
       "\\item 319\n",
       "\\item 321\n",
       "\\item 323\n",
       "\\item 325\n",
       "\\item 327\n",
       "\\item 329\n",
       "\\item 331\n",
       "\\item 333\n",
       "\\item 335\n",
       "\\item 337\n",
       "\\item 339\n",
       "\\item 341\n",
       "\\item 343\n",
       "\\item 345\n",
       "\\item 347\n",
       "\\item 349\n",
       "\\item 351\n",
       "\\item 353\n",
       "\\item 355\n",
       "\\item 357\n",
       "\\item 359\n",
       "\\item 361\n",
       "\\item 363\n",
       "\\item 365\n",
       "\\item 367\n",
       "\\item 369\n",
       "\\item 371\n",
       "\\item 373\n",
       "\\item 375\n",
       "\\item 377\n",
       "\\item 379\n",
       "\\item 381\n",
       "\\item 383\n",
       "\\item 385\n",
       "\\item 387\n",
       "\\item 389\n",
       "\\item 391\n",
       "\\item 393\n",
       "\\item 395\n",
       "\\item 397\n",
       "\\item 399\n",
       "\\item 401\n",
       "\\item 403\n",
       "\\item 405\n",
       "\\item 407\n",
       "\\item 409\n",
       "\\item 411\n",
       "\\item 413\n",
       "\\item 415\n",
       "\\item 417\n",
       "\\item 419\n",
       "\\item 421\n",
       "\\item 423\n",
       "\\item 425\n",
       "\\item 427\n",
       "\\item 429\n",
       "\\item 431\n",
       "\\item 433\n",
       "\\item 435\n",
       "\\item 437\n",
       "\\item 439\n",
       "\\item 441\n",
       "\\item 443\n",
       "\\item 445\n",
       "\\item 447\n",
       "\\item 449\n",
       "\\item 451\n",
       "\\item 453\n",
       "\\item 455\n",
       "\\item 457\n",
       "\\item 459\n",
       "\\item 461\n",
       "\\item 463\n",
       "\\item 465\n",
       "\\item 467\n",
       "\\item 469\n",
       "\\item 471\n",
       "\\item 473\n",
       "\\item 475\n",
       "\\item 477\n",
       "\\item 479\n",
       "\\item 481\n",
       "\\item 483\n",
       "\\item 485\n",
       "\\item 487\n",
       "\\item 489\n",
       "\\item 491\n",
       "\\item 493\n",
       "\\item 495\n",
       "\\item 497\n",
       "\\item 499\n",
       "\\end{enumerate*}\n"
      ],
      "text/markdown": [
       "1. 5\n",
       "2. 7\n",
       "3. 9\n",
       "4. 11\n",
       "5. 13\n",
       "6. 15\n",
       "7. 17\n",
       "8. 19\n",
       "9. 21\n",
       "10. 23\n",
       "11. 25\n",
       "12. 27\n",
       "13. 29\n",
       "14. 31\n",
       "15. 33\n",
       "16. 35\n",
       "17. 37\n",
       "18. 39\n",
       "19. 41\n",
       "20. 43\n",
       "21. 45\n",
       "22. 47\n",
       "23. 49\n",
       "24. 51\n",
       "25. 53\n",
       "26. 55\n",
       "27. 57\n",
       "28. 59\n",
       "29. 61\n",
       "30. 63\n",
       "31. 65\n",
       "32. 67\n",
       "33. 69\n",
       "34. 71\n",
       "35. 73\n",
       "36. 75\n",
       "37. 77\n",
       "38. 79\n",
       "39. 81\n",
       "40. 83\n",
       "41. 85\n",
       "42. 87\n",
       "43. 89\n",
       "44. 91\n",
       "45. 93\n",
       "46. 95\n",
       "47. 97\n",
       "48. 99\n",
       "49. 101\n",
       "50. 103\n",
       "51. 105\n",
       "52. 107\n",
       "53. 109\n",
       "54. 111\n",
       "55. 113\n",
       "56. 115\n",
       "57. 117\n",
       "58. 119\n",
       "59. 121\n",
       "60. 123\n",
       "61. 125\n",
       "62. 127\n",
       "63. 129\n",
       "64. 131\n",
       "65. 133\n",
       "66. 135\n",
       "67. 137\n",
       "68. 139\n",
       "69. 141\n",
       "70. 143\n",
       "71. 145\n",
       "72. 147\n",
       "73. 149\n",
       "74. 151\n",
       "75. 153\n",
       "76. 155\n",
       "77. 157\n",
       "78. 159\n",
       "79. 161\n",
       "80. 163\n",
       "81. 165\n",
       "82. 167\n",
       "83. 169\n",
       "84. 171\n",
       "85. 173\n",
       "86. 175\n",
       "87. 177\n",
       "88. 179\n",
       "89. 181\n",
       "90. 183\n",
       "91. 185\n",
       "92. 187\n",
       "93. 189\n",
       "94. 191\n",
       "95. 193\n",
       "96. 195\n",
       "97. 197\n",
       "98. 199\n",
       "99. 201\n",
       "100. 203\n",
       "101. 205\n",
       "102. 207\n",
       "103. 209\n",
       "104. 211\n",
       "105. 213\n",
       "106. 215\n",
       "107. 217\n",
       "108. 219\n",
       "109. 221\n",
       "110. 223\n",
       "111. 225\n",
       "112. 227\n",
       "113. 229\n",
       "114. 231\n",
       "115. 233\n",
       "116. 235\n",
       "117. 237\n",
       "118. 239\n",
       "119. 241\n",
       "120. 243\n",
       "121. 245\n",
       "122. 247\n",
       "123. 249\n",
       "124. 251\n",
       "125. 253\n",
       "126. 255\n",
       "127. 257\n",
       "128. 259\n",
       "129. 261\n",
       "130. 263\n",
       "131. 265\n",
       "132. 267\n",
       "133. 269\n",
       "134. 271\n",
       "135. 273\n",
       "136. 275\n",
       "137. 277\n",
       "138. 279\n",
       "139. 281\n",
       "140. 283\n",
       "141. 285\n",
       "142. 287\n",
       "143. 289\n",
       "144. 291\n",
       "145. 293\n",
       "146. 295\n",
       "147. 297\n",
       "148. 299\n",
       "149. 301\n",
       "150. 303\n",
       "151. 305\n",
       "152. 307\n",
       "153. 309\n",
       "154. 311\n",
       "155. 313\n",
       "156. 315\n",
       "157. 317\n",
       "158. 319\n",
       "159. 321\n",
       "160. 323\n",
       "161. 325\n",
       "162. 327\n",
       "163. 329\n",
       "164. 331\n",
       "165. 333\n",
       "166. 335\n",
       "167. 337\n",
       "168. 339\n",
       "169. 341\n",
       "170. 343\n",
       "171. 345\n",
       "172. 347\n",
       "173. 349\n",
       "174. 351\n",
       "175. 353\n",
       "176. 355\n",
       "177. 357\n",
       "178. 359\n",
       "179. 361\n",
       "180. 363\n",
       "181. 365\n",
       "182. 367\n",
       "183. 369\n",
       "184. 371\n",
       "185. 373\n",
       "186. 375\n",
       "187. 377\n",
       "188. 379\n",
       "189. 381\n",
       "190. 383\n",
       "191. 385\n",
       "192. 387\n",
       "193. 389\n",
       "194. 391\n",
       "195. 393\n",
       "196. 395\n",
       "197. 397\n",
       "198. 399\n",
       "199. 401\n",
       "200. 403\n",
       "201. 405\n",
       "202. 407\n",
       "203. 409\n",
       "204. 411\n",
       "205. 413\n",
       "206. 415\n",
       "207. 417\n",
       "208. 419\n",
       "209. 421\n",
       "210. 423\n",
       "211. 425\n",
       "212. 427\n",
       "213. 429\n",
       "214. 431\n",
       "215. 433\n",
       "216. 435\n",
       "217. 437\n",
       "218. 439\n",
       "219. 441\n",
       "220. 443\n",
       "221. 445\n",
       "222. 447\n",
       "223. 449\n",
       "224. 451\n",
       "225. 453\n",
       "226. 455\n",
       "227. 457\n",
       "228. 459\n",
       "229. 461\n",
       "230. 463\n",
       "231. 465\n",
       "232. 467\n",
       "233. 469\n",
       "234. 471\n",
       "235. 473\n",
       "236. 475\n",
       "237. 477\n",
       "238. 479\n",
       "239. 481\n",
       "240. 483\n",
       "241. 485\n",
       "242. 487\n",
       "243. 489\n",
       "244. 491\n",
       "245. 493\n",
       "246. 495\n",
       "247. 497\n",
       "248. 499\n",
       "\n",
       "\n"
      ],
      "text/plain": [
       "  [1]   5   7   9  11  13  15  17  19  21  23  25  27  29  31  33  35  37  39\n",
       " [19]  41  43  45  47  49  51  53  55  57  59  61  63  65  67  69  71  73  75\n",
       " [37]  77  79  81  83  85  87  89  91  93  95  97  99 101 103 105 107 109 111\n",
       " [55] 113 115 117 119 121 123 125 127 129 131 133 135 137 139 141 143 145 147\n",
       " [73] 149 151 153 155 157 159 161 163 165 167 169 171 173 175 177 179 181 183\n",
       " [91] 185 187 189 191 193 195 197 199 201 203 205 207 209 211 213 215 217 219\n",
       "[109] 221 223 225 227 229 231 233 235 237 239 241 243 245 247 249 251 253 255\n",
       "[127] 257 259 261 263 265 267 269 271 273 275 277 279 281 283 285 287 289 291\n",
       "[145] 293 295 297 299 301 303 305 307 309 311 313 315 317 319 321 323 325 327\n",
       "[163] 329 331 333 335 337 339 341 343 345 347 349 351 353 355 357 359 361 363\n",
       "[181] 365 367 369 371 373 375 377 379 381 383 385 387 389 391 393 395 397 399\n",
       "[199] 401 403 405 407 409 411 413 415 417 419 421 423 425 427 429 431 433 435\n",
       "[217] 437 439 441 443 445 447 449 451 453 455 457 459 461 463 465 467 469 471\n",
       "[235] 473 475 477 479 481 483 485 487 489 491 493 495 497 499"
      ]
     },
     "metadata": {},
     "output_type": "display_data"
    }
   ],
   "source": [
    "df<-c(seq(5, 500, by=2))\n",
    "df"
   ]
  },
  {
   "cell_type": "markdown",
   "metadata": {},
   "source": [
    "QUESTION 3"
   ]
  },
  {
   "cell_type": "code",
   "execution_count": 6,
   "metadata": {},
   "outputs": [
    {
     "data": {
      "text/html": [
       "<style>\n",
       ".list-inline {list-style: none; margin:0; padding: 0}\n",
       ".list-inline>li {display: inline-block}\n",
       ".list-inline>li:not(:last-child)::after {content: \"\\00b7\"; padding: 0 .5ex}\n",
       "</style>\n",
       "<ol class=list-inline><li>1</li><li>2</li><li>4</li><li>6</li><li>7</li></ol>\n"
      ],
      "text/latex": [
       "\\begin{enumerate*}\n",
       "\\item 1\n",
       "\\item 2\n",
       "\\item 4\n",
       "\\item 6\n",
       "\\item 7\n",
       "\\end{enumerate*}\n"
      ],
      "text/markdown": [
       "1. 1\n",
       "2. 2\n",
       "3. 4\n",
       "4. 6\n",
       "5. 7\n",
       "\n",
       "\n"
      ],
      "text/plain": [
       "[1] 1 2 4 6 7"
      ]
     },
     "metadata": {},
     "output_type": "display_data"
    }
   ],
   "source": [
    "num.a<-c(1,2,4,6,7)\n",
    "num.a"
   ]
  },
  {
   "cell_type": "code",
   "execution_count": 7,
   "metadata": {},
   "outputs": [
    {
     "data": {
      "text/html": [
       "7"
      ],
      "text/latex": [
       "7"
      ],
      "text/markdown": [
       "7"
      ],
      "text/plain": [
       "[1] 7"
      ]
     },
     "metadata": {},
     "output_type": "display_data"
    }
   ],
   "source": [
    "num.a[5]"
   ]
  },
  {
   "cell_type": "markdown",
   "metadata": {},
   "source": [
    "QUESTION 4"
   ]
  },
  {
   "cell_type": "code",
   "execution_count": 8,
   "metadata": {},
   "outputs": [
    {
     "data": {
      "text/html": [
       "<style>\n",
       ".list-inline {list-style: none; margin:0; padding: 0}\n",
       ".list-inline>li {display: inline-block}\n",
       ".list-inline>li:not(:last-child)::after {content: \"\\00b7\"; padding: 0 .5ex}\n",
       "</style>\n",
       "<ol class=list-inline><li>20</li><li>24</li><li>46</li><li>62</li><li>22</li><li>37</li><li>45</li><li>27</li><li>65</li><li>23</li></ol>\n"
      ],
      "text/latex": [
       "\\begin{enumerate*}\n",
       "\\item 20\n",
       "\\item 24\n",
       "\\item 46\n",
       "\\item 62\n",
       "\\item 22\n",
       "\\item 37\n",
       "\\item 45\n",
       "\\item 27\n",
       "\\item 65\n",
       "\\item 23\n",
       "\\end{enumerate*}\n"
      ],
      "text/markdown": [
       "1. 20\n",
       "2. 24\n",
       "3. 46\n",
       "4. 62\n",
       "5. 22\n",
       "6. 37\n",
       "7. 45\n",
       "8. 27\n",
       "9. 65\n",
       "10. 23\n",
       "\n",
       "\n"
      ],
      "text/plain": [
       " [1] 20 24 46 62 22 37 45 27 65 23"
      ]
     },
     "metadata": {},
     "output_type": "display_data"
    }
   ],
   "source": [
    "stu.hours <- c(20,24,46,62,22,37,45,27,65,23)\n",
    "stu.hours"
   ]
  },
  {
   "cell_type": "code",
   "execution_count": 9,
   "metadata": {},
   "outputs": [
    {
     "data": {
      "text/html": [
       "<table>\n",
       "<caption>A matrix: 5 × 2 of type dbl</caption>\n",
       "<tbody>\n",
       "\t<tr><td>20</td><td>37</td></tr>\n",
       "\t<tr><td>24</td><td>45</td></tr>\n",
       "\t<tr><td>46</td><td>27</td></tr>\n",
       "\t<tr><td>62</td><td>65</td></tr>\n",
       "\t<tr><td>22</td><td>23</td></tr>\n",
       "</tbody>\n",
       "</table>\n"
      ],
      "text/latex": [
       "A matrix: 5 × 2 of type dbl\n",
       "\\begin{tabular}{ll}\n",
       "\t 20 & 37\\\\\n",
       "\t 24 & 45\\\\\n",
       "\t 46 & 27\\\\\n",
       "\t 62 & 65\\\\\n",
       "\t 22 & 23\\\\\n",
       "\\end{tabular}\n"
      ],
      "text/markdown": [
       "\n",
       "A matrix: 5 × 2 of type dbl\n",
       "\n",
       "| 20 | 37 |\n",
       "| 24 | 45 |\n",
       "| 46 | 27 |\n",
       "| 62 | 65 |\n",
       "| 22 | 23 |\n",
       "\n"
      ],
      "text/plain": [
       "     [,1] [,2]\n",
       "[1,] 20   37  \n",
       "[2,] 24   45  \n",
       "[3,] 46   27  \n",
       "[4,] 62   65  \n",
       "[5,] 22   23  "
      ]
     },
     "metadata": {},
     "output_type": "display_data"
    }
   ],
   "source": [
    "stu.matrix <- matrix(stu.hours, nrow=5) \n",
    "stu.matrix"
   ]
  },
  {
   "cell_type": "markdown",
   "metadata": {},
   "source": [
    "ANSWER IS B"
   ]
  },
  {
   "cell_type": "markdown",
   "metadata": {},
   "source": [
    "QUESTION 5"
   ]
  },
  {
   "cell_type": "code",
   "execution_count": 19,
   "metadata": {},
   "outputs": [
    {
     "data": {
      "text/html": [
       "<style>\n",
       ".list-inline {list-style: none; margin:0; padding: 0}\n",
       ".list-inline>li {display: inline-block}\n",
       ".list-inline>li:not(:last-child)::after {content: \"\\00b7\"; padding: 0 .5ex}\n",
       "</style>\n",
       "<ol class=list-inline><li>20</li><li>24</li><li>46</li><li>62</li><li>22</li><li>37</li><li>45</li><li>27</li><li>65</li><li>23</li></ol>\n"
      ],
      "text/latex": [
       "\\begin{enumerate*}\n",
       "\\item 20\n",
       "\\item 24\n",
       "\\item 46\n",
       "\\item 62\n",
       "\\item 22\n",
       "\\item 37\n",
       "\\item 45\n",
       "\\item 27\n",
       "\\item 65\n",
       "\\item 23\n",
       "\\end{enumerate*}\n"
      ],
      "text/markdown": [
       "1. 20\n",
       "2. 24\n",
       "3. 46\n",
       "4. 62\n",
       "5. 22\n",
       "6. 37\n",
       "7. 45\n",
       "8. 27\n",
       "9. 65\n",
       "10. 23\n",
       "\n",
       "\n"
      ],
      "text/plain": [
       " [1] 20 24 46 62 22 37 45 27 65 23"
      ]
     },
     "metadata": {},
     "output_type": "display_data"
    }
   ],
   "source": [
    "stu.hours <- c(20,24,46,62,22,37,45,27,65,23) \n",
    "stu.hours"
   ]
  },
  {
   "cell_type": "code",
   "execution_count": 11,
   "metadata": {},
   "outputs": [
    {
     "data": {
      "text/html": [
       "<style>\n",
       ".list-inline {list-style: none; margin:0; padding: 0}\n",
       ".list-inline>li {display: inline-block}\n",
       ".list-inline>li:not(:last-child)::after {content: \"\\00b7\"; padding: 0 .5ex}\n",
       "</style>\n",
       "<ol class=list-inline><li>40</li><li>55</li><li>69</li><li>83</li><li>27</li><li>44</li><li>61</li><li>33</li><li>71</li><li>37</li></ol>\n"
      ],
      "text/latex": [
       "\\begin{enumerate*}\n",
       "\\item 40\n",
       "\\item 55\n",
       "\\item 69\n",
       "\\item 83\n",
       "\\item 27\n",
       "\\item 44\n",
       "\\item 61\n",
       "\\item 33\n",
       "\\item 71\n",
       "\\item 37\n",
       "\\end{enumerate*}\n"
      ],
      "text/markdown": [
       "1. 40\n",
       "2. 55\n",
       "3. 69\n",
       "4. 83\n",
       "5. 27\n",
       "6. 44\n",
       "7. 61\n",
       "8. 33\n",
       "9. 71\n",
       "10. 37\n",
       "\n",
       "\n"
      ],
      "text/plain": [
       " [1] 40 55 69 83 27 44 61 33 71 37"
      ]
     },
     "metadata": {},
     "output_type": "display_data"
    }
   ],
   "source": [
    "stu.marks <- c(40,55,69,83,27,44,61,33,71,37)\n",
    "stu.marks"
   ]
  },
  {
   "cell_type": "code",
   "execution_count": 15,
   "metadata": {},
   "outputs": [
    {
     "data": {
      "text/html": [
       "<style>\n",
       ".list-inline {list-style: none; margin:0; padding: 0}\n",
       ".list-inline>li {display: inline-block}\n",
       ".list-inline>li:not(:last-child)::after {content: \"\\00b7\"; padding: 0 .5ex}\n",
       "</style>\n",
       "<ol class=list-inline><li>20</li><li>24</li><li>46</li><li>62</li><li>22</li><li>37</li><li>45</li><li>27</li><li>65</li><li>23</li><li>40</li><li>55</li><li>69</li><li>83</li><li>27</li><li>44</li><li>61</li><li>33</li><li>71</li><li>37</li></ol>\n"
      ],
      "text/latex": [
       "\\begin{enumerate*}\n",
       "\\item 20\n",
       "\\item 24\n",
       "\\item 46\n",
       "\\item 62\n",
       "\\item 22\n",
       "\\item 37\n",
       "\\item 45\n",
       "\\item 27\n",
       "\\item 65\n",
       "\\item 23\n",
       "\\item 40\n",
       "\\item 55\n",
       "\\item 69\n",
       "\\item 83\n",
       "\\item 27\n",
       "\\item 44\n",
       "\\item 61\n",
       "\\item 33\n",
       "\\item 71\n",
       "\\item 37\n",
       "\\end{enumerate*}\n"
      ],
      "text/markdown": [
       "1. 20\n",
       "2. 24\n",
       "3. 46\n",
       "4. 62\n",
       "5. 22\n",
       "6. 37\n",
       "7. 45\n",
       "8. 27\n",
       "9. 65\n",
       "10. 23\n",
       "11. 40\n",
       "12. 55\n",
       "13. 69\n",
       "14. 83\n",
       "15. 27\n",
       "16. 44\n",
       "17. 61\n",
       "18. 33\n",
       "19. 71\n",
       "20. 37\n",
       "\n",
       "\n"
      ],
      "text/plain": [
       " [1] 20 24 46 62 22 37 45 27 65 23 40 55 69 83 27 44 61 33 71 37"
      ]
     },
     "metadata": {},
     "output_type": "display_data"
    }
   ],
   "source": [
    "stu.data<-c(stu.hours,stu.marks)\n",
    "stu.data"
   ]
  },
  {
   "cell_type": "code",
   "execution_count": 16,
   "metadata": {},
   "outputs": [
    {
     "data": {
      "text/html": [
       "<table>\n",
       "<caption>A matrix: 20 × 1 of type dbl</caption>\n",
       "<tbody>\n",
       "\t<tr><td>20</td></tr>\n",
       "\t<tr><td>24</td></tr>\n",
       "\t<tr><td>46</td></tr>\n",
       "\t<tr><td>62</td></tr>\n",
       "\t<tr><td>22</td></tr>\n",
       "\t<tr><td>37</td></tr>\n",
       "\t<tr><td>45</td></tr>\n",
       "\t<tr><td>27</td></tr>\n",
       "\t<tr><td>65</td></tr>\n",
       "\t<tr><td>23</td></tr>\n",
       "\t<tr><td>40</td></tr>\n",
       "\t<tr><td>55</td></tr>\n",
       "\t<tr><td>69</td></tr>\n",
       "\t<tr><td>83</td></tr>\n",
       "\t<tr><td>27</td></tr>\n",
       "\t<tr><td>44</td></tr>\n",
       "\t<tr><td>61</td></tr>\n",
       "\t<tr><td>33</td></tr>\n",
       "\t<tr><td>71</td></tr>\n",
       "\t<tr><td>37</td></tr>\n",
       "</tbody>\n",
       "</table>\n"
      ],
      "text/latex": [
       "A matrix: 20 × 1 of type dbl\n",
       "\\begin{tabular}{l}\n",
       "\t 20\\\\\n",
       "\t 24\\\\\n",
       "\t 46\\\\\n",
       "\t 62\\\\\n",
       "\t 22\\\\\n",
       "\t 37\\\\\n",
       "\t 45\\\\\n",
       "\t 27\\\\\n",
       "\t 65\\\\\n",
       "\t 23\\\\\n",
       "\t 40\\\\\n",
       "\t 55\\\\\n",
       "\t 69\\\\\n",
       "\t 83\\\\\n",
       "\t 27\\\\\n",
       "\t 44\\\\\n",
       "\t 61\\\\\n",
       "\t 33\\\\\n",
       "\t 71\\\\\n",
       "\t 37\\\\\n",
       "\\end{tabular}\n"
      ],
      "text/markdown": [
       "\n",
       "A matrix: 20 × 1 of type dbl\n",
       "\n",
       "| 20 |\n",
       "| 24 |\n",
       "| 46 |\n",
       "| 62 |\n",
       "| 22 |\n",
       "| 37 |\n",
       "| 45 |\n",
       "| 27 |\n",
       "| 65 |\n",
       "| 23 |\n",
       "| 40 |\n",
       "| 55 |\n",
       "| 69 |\n",
       "| 83 |\n",
       "| 27 |\n",
       "| 44 |\n",
       "| 61 |\n",
       "| 33 |\n",
       "| 71 |\n",
       "| 37 |\n",
       "\n"
      ],
      "text/plain": [
       "      [,1]\n",
       " [1,] 20  \n",
       " [2,] 24  \n",
       " [3,] 46  \n",
       " [4,] 62  \n",
       " [5,] 22  \n",
       " [6,] 37  \n",
       " [7,] 45  \n",
       " [8,] 27  \n",
       " [9,] 65  \n",
       "[10,] 23  \n",
       "[11,] 40  \n",
       "[12,] 55  \n",
       "[13,] 69  \n",
       "[14,] 83  \n",
       "[15,] 27  \n",
       "[16,] 44  \n",
       "[17,] 61  \n",
       "[18,] 33  \n",
       "[19,] 71  \n",
       "[20,] 37  "
      ]
     },
     "metadata": {},
     "output_type": "display_data"
    }
   ],
   "source": [
    "stu.matrix<-matrix(stu.data)\n",
    "stu.matrix"
   ]
  },
  {
   "cell_type": "code",
   "execution_count": 17,
   "metadata": {},
   "outputs": [
    {
     "data": {
      "text/html": [
       "<table>\n",
       "<caption>A matrix: 10 × 2 of type dbl</caption>\n",
       "<tbody>\n",
       "\t<tr><td>20</td><td>40</td></tr>\n",
       "\t<tr><td>24</td><td>55</td></tr>\n",
       "\t<tr><td>46</td><td>69</td></tr>\n",
       "\t<tr><td>62</td><td>83</td></tr>\n",
       "\t<tr><td>22</td><td>27</td></tr>\n",
       "\t<tr><td>37</td><td>44</td></tr>\n",
       "\t<tr><td>45</td><td>61</td></tr>\n",
       "\t<tr><td>27</td><td>33</td></tr>\n",
       "\t<tr><td>65</td><td>71</td></tr>\n",
       "\t<tr><td>23</td><td>37</td></tr>\n",
       "</tbody>\n",
       "</table>\n"
      ],
      "text/latex": [
       "A matrix: 10 × 2 of type dbl\n",
       "\\begin{tabular}{ll}\n",
       "\t 20 & 40\\\\\n",
       "\t 24 & 55\\\\\n",
       "\t 46 & 69\\\\\n",
       "\t 62 & 83\\\\\n",
       "\t 22 & 27\\\\\n",
       "\t 37 & 44\\\\\n",
       "\t 45 & 61\\\\\n",
       "\t 27 & 33\\\\\n",
       "\t 65 & 71\\\\\n",
       "\t 23 & 37\\\\\n",
       "\\end{tabular}\n"
      ],
      "text/markdown": [
       "\n",
       "A matrix: 10 × 2 of type dbl\n",
       "\n",
       "| 20 | 40 |\n",
       "| 24 | 55 |\n",
       "| 46 | 69 |\n",
       "| 62 | 83 |\n",
       "| 22 | 27 |\n",
       "| 37 | 44 |\n",
       "| 45 | 61 |\n",
       "| 27 | 33 |\n",
       "| 65 | 71 |\n",
       "| 23 | 37 |\n",
       "\n"
      ],
      "text/plain": [
       "      [,1] [,2]\n",
       " [1,] 20   40  \n",
       " [2,] 24   55  \n",
       " [3,] 46   69  \n",
       " [4,] 62   83  \n",
       " [5,] 22   27  \n",
       " [6,] 37   44  \n",
       " [7,] 45   61  \n",
       " [8,] 27   33  \n",
       " [9,] 65   71  \n",
       "[10,] 23   37  "
      ]
     },
     "metadata": {},
     "output_type": "display_data"
    }
   ],
   "source": [
    "stu.matrix<-matrix(stu.data, nrow=10)\n",
    "stu.matrix"
   ]
  },
  {
   "cell_type": "code",
   "execution_count": 18,
   "metadata": {},
   "outputs": [
    {
     "data": {
      "text/html": [
       "<table>\n",
       "<caption>A matrix: 10 × 2 of type dbl</caption>\n",
       "<thead>\n",
       "\t<tr><th></th><th scope=col>Hours</th><th scope=col>Marks</th></tr>\n",
       "</thead>\n",
       "<tbody>\n",
       "\t<tr><th scope=row>1</th><td>20</td><td>40</td></tr>\n",
       "\t<tr><th scope=row>2</th><td>24</td><td>55</td></tr>\n",
       "\t<tr><th scope=row>3</th><td>46</td><td>69</td></tr>\n",
       "\t<tr><th scope=row>4</th><td>62</td><td>83</td></tr>\n",
       "\t<tr><th scope=row>5</th><td>22</td><td>27</td></tr>\n",
       "\t<tr><th scope=row>6</th><td>37</td><td>44</td></tr>\n",
       "\t<tr><th scope=row>7</th><td>45</td><td>61</td></tr>\n",
       "\t<tr><th scope=row>8</th><td>27</td><td>33</td></tr>\n",
       "\t<tr><th scope=row>9</th><td>65</td><td>71</td></tr>\n",
       "\t<tr><th scope=row>10</th><td>23</td><td>37</td></tr>\n",
       "</tbody>\n",
       "</table>\n"
      ],
      "text/latex": [
       "A matrix: 10 × 2 of type dbl\n",
       "\\begin{tabular}{r|ll}\n",
       "  & Hours & Marks\\\\\n",
       "\\hline\n",
       "\t1 & 20 & 40\\\\\n",
       "\t2 & 24 & 55\\\\\n",
       "\t3 & 46 & 69\\\\\n",
       "\t4 & 62 & 83\\\\\n",
       "\t5 & 22 & 27\\\\\n",
       "\t6 & 37 & 44\\\\\n",
       "\t7 & 45 & 61\\\\\n",
       "\t8 & 27 & 33\\\\\n",
       "\t9 & 65 & 71\\\\\n",
       "\t10 & 23 & 37\\\\\n",
       "\\end{tabular}\n"
      ],
      "text/markdown": [
       "\n",
       "A matrix: 10 × 2 of type dbl\n",
       "\n",
       "| <!--/--> | Hours | Marks |\n",
       "|---|---|---|\n",
       "| 1 | 20 | 40 |\n",
       "| 2 | 24 | 55 |\n",
       "| 3 | 46 | 69 |\n",
       "| 4 | 62 | 83 |\n",
       "| 5 | 22 | 27 |\n",
       "| 6 | 37 | 44 |\n",
       "| 7 | 45 | 61 |\n",
       "| 8 | 27 | 33 |\n",
       "| 9 | 65 | 71 |\n",
       "| 10 | 23 | 37 |\n",
       "\n"
      ],
      "text/plain": [
       "   Hours Marks\n",
       "1  20    40   \n",
       "2  24    55   \n",
       "3  46    69   \n",
       "4  62    83   \n",
       "5  22    27   \n",
       "6  37    44   \n",
       "7  45    61   \n",
       "8  27    33   \n",
       "9  65    71   \n",
       "10 23    37   "
      ]
     },
     "metadata": {},
     "output_type": "display_data"
    }
   ],
   "source": [
    "colnames(stu.matrix)<-c('Hours','Marks')\n",
    "rownames(stu.matrix)<-c(1:10)\n",
    "stu.matrix"
   ]
  },
  {
   "cell_type": "code",
   "execution_count": null,
   "metadata": {},
   "outputs": [],
   "source": []
  }
 ],
 "metadata": {
  "kernelspec": {
   "display_name": "R",
   "language": "R",
   "name": "ir"
  },
  "language_info": {
   "codemirror_mode": "r",
   "file_extension": ".r",
   "mimetype": "text/x-r-source",
   "name": "R",
   "pygments_lexer": "r",
   "version": "3.6.3"
  }
 },
 "nbformat": 4,
 "nbformat_minor": 4
}
