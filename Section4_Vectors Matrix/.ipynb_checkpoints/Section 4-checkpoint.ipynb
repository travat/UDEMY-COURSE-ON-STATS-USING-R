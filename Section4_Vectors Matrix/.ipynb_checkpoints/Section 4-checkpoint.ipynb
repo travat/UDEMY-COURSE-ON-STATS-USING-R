{
 "cells": [
  {
   "cell_type": "markdown",
   "metadata": {},
   "source": [
    "To find whether the vector is numeric/character/logical/complex data?"
   ]
  },
  {
   "cell_type": "code",
   "execution_count": 1,
   "metadata": {},
   "outputs": [],
   "source": [
    "a <-c(1,2,3,4)"
   ]
  },
  {
   "cell_type": "code",
   "execution_count": 2,
   "metadata": {},
   "outputs": [
    {
     "data": {
      "text/html": [
       "TRUE"
      ],
      "text/latex": [
       "TRUE"
      ],
      "text/markdown": [
       "TRUE"
      ],
      "text/plain": [
       "[1] TRUE"
      ]
     },
     "metadata": {},
     "output_type": "display_data"
    }
   ],
   "source": [
    "is.numeric(a)"
   ]
  },
  {
   "cell_type": "markdown",
   "metadata": {},
   "source": [
    "If you have a data which has a mix of numeric data and character data then it recognizes as character. To cross chec, simply type b, and you will see that 1 and 2 also comes in inverted coma which is a feature of character"
   ]
  },
  {
   "cell_type": "code",
   "execution_count": 3,
   "metadata": {},
   "outputs": [],
   "source": [
    "b<-c(1,2,\"sk\")"
   ]
  },
  {
   "cell_type": "code",
   "execution_count": 4,
   "metadata": {},
   "outputs": [
    {
     "data": {
      "text/html": [
       "FALSE"
      ],
      "text/latex": [
       "FALSE"
      ],
      "text/markdown": [
       "FALSE"
      ],
      "text/plain": [
       "[1] FALSE"
      ]
     },
     "metadata": {},
     "output_type": "display_data"
    }
   ],
   "source": [
    "is.numeric(b)"
   ]
  },
  {
   "cell_type": "code",
   "execution_count": 5,
   "metadata": {},
   "outputs": [
    {
     "data": {
      "text/html": [
       "TRUE"
      ],
      "text/latex": [
       "TRUE"
      ],
      "text/markdown": [
       "TRUE"
      ],
      "text/plain": [
       "[1] TRUE"
      ]
     },
     "metadata": {},
     "output_type": "display_data"
    }
   ],
   "source": [
    "is.character(b)"
   ]
  },
  {
   "cell_type": "code",
   "execution_count": 6,
   "metadata": {},
   "outputs": [
    {
     "data": {
      "text/html": [
       "<style>\n",
       ".list-inline {list-style: none; margin:0; padding: 0}\n",
       ".list-inline>li {display: inline-block}\n",
       ".list-inline>li:not(:last-child)::after {content: \"\\00b7\"; padding: 0 .5ex}\n",
       "</style>\n",
       "<ol class=list-inline><li>'1'</li><li>'2'</li><li>'sk'</li></ol>\n"
      ],
      "text/latex": [
       "\\begin{enumerate*}\n",
       "\\item '1'\n",
       "\\item '2'\n",
       "\\item 'sk'\n",
       "\\end{enumerate*}\n"
      ],
      "text/markdown": [
       "1. '1'\n",
       "2. '2'\n",
       "3. 'sk'\n",
       "\n",
       "\n"
      ],
      "text/plain": [
       "[1] \"1\"  \"2\"  \"sk\""
      ]
     },
     "metadata": {},
     "output_type": "display_data"
    }
   ],
   "source": [
    "b"
   ]
  },
  {
   "cell_type": "markdown",
   "metadata": {},
   "source": [
    "If you want to label numeric data as character data then "
   ]
  },
  {
   "cell_type": "code",
   "execution_count": 7,
   "metadata": {},
   "outputs": [
    {
     "data": {
      "text/html": [
       "<style>\n",
       ".list-inline {list-style: none; margin:0; padding: 0}\n",
       ".list-inline>li {display: inline-block}\n",
       ".list-inline>li:not(:last-child)::after {content: \"\\00b7\"; padding: 0 .5ex}\n",
       "</style>\n",
       "<ol class=list-inline><li>'1'</li><li>'2'</li><li>'3'</li><li>'4'</li></ol>\n"
      ],
      "text/latex": [
       "\\begin{enumerate*}\n",
       "\\item '1'\n",
       "\\item '2'\n",
       "\\item '3'\n",
       "\\item '4'\n",
       "\\end{enumerate*}\n"
      ],
      "text/markdown": [
       "1. '1'\n",
       "2. '2'\n",
       "3. '3'\n",
       "4. '4'\n",
       "\n",
       "\n"
      ],
      "text/plain": [
       "[1] \"1\" \"2\" \"3\" \"4\""
      ]
     },
     "metadata": {},
     "output_type": "display_data"
    }
   ],
   "source": [
    "as.character(a)"
   ]
  },
  {
   "cell_type": "markdown",
   "metadata": {},
   "source": [
    "If you want to label logical data (True or False) as 1 and 2 respectively. In the example below, 1 value is denoted for true and 0 value is denoted for false "
   ]
  },
  {
   "cell_type": "code",
   "execution_count": 8,
   "metadata": {},
   "outputs": [
    {
     "data": {
      "text/html": [
       "<style>\n",
       ".list-inline {list-style: none; margin:0; padding: 0}\n",
       ".list-inline>li {display: inline-block}\n",
       ".list-inline>li:not(:last-child)::after {content: \"\\00b7\"; padding: 0 .5ex}\n",
       "</style>\n",
       "<ol class=list-inline><li>TRUE</li><li>TRUE</li><li>FALSE</li></ol>\n"
      ],
      "text/latex": [
       "\\begin{enumerate*}\n",
       "\\item TRUE\n",
       "\\item TRUE\n",
       "\\item FALSE\n",
       "\\end{enumerate*}\n"
      ],
      "text/markdown": [
       "1. TRUE\n",
       "2. TRUE\n",
       "3. FALSE\n",
       "\n",
       "\n"
      ],
      "text/plain": [
       "[1]  TRUE  TRUE FALSE"
      ]
     },
     "metadata": {},
     "output_type": "display_data"
    }
   ],
   "source": [
    "d<-c(TRUE,TRUE,FALSE)\n",
    "d"
   ]
  },
  {
   "cell_type": "code",
   "execution_count": 9,
   "metadata": {},
   "outputs": [
    {
     "data": {
      "text/html": [
       "<style>\n",
       ".list-inline {list-style: none; margin:0; padding: 0}\n",
       ".list-inline>li {display: inline-block}\n",
       ".list-inline>li:not(:last-child)::after {content: \"\\00b7\"; padding: 0 .5ex}\n",
       "</style>\n",
       "<ol class=list-inline><li>1</li><li>1</li><li>0</li></ol>\n"
      ],
      "text/latex": [
       "\\begin{enumerate*}\n",
       "\\item 1\n",
       "\\item 1\n",
       "\\item 0\n",
       "\\end{enumerate*}\n"
      ],
      "text/markdown": [
       "1. 1\n",
       "2. 1\n",
       "3. 0\n",
       "\n",
       "\n"
      ],
      "text/plain": [
       "[1] 1 1 0"
      ]
     },
     "metadata": {},
     "output_type": "display_data"
    }
   ],
   "source": [
    "as.numeric (d)"
   ]
  },
  {
   "cell_type": "code",
   "execution_count": 10,
   "metadata": {},
   "outputs": [
    {
     "data": {
      "text/html": [
       "<style>\n",
       ".list-inline {list-style: none; margin:0; padding: 0}\n",
       ".list-inline>li {display: inline-block}\n",
       ".list-inline>li:not(:last-child)::after {content: \"\\00b7\"; padding: 0 .5ex}\n",
       "</style>\n",
       "<ol class=list-inline><li>1</li><li>1</li><li>0</li></ol>\n"
      ],
      "text/latex": [
       "\\begin{enumerate*}\n",
       "\\item 1\n",
       "\\item 1\n",
       "\\item 0\n",
       "\\end{enumerate*}\n"
      ],
      "text/markdown": [
       "1. 1\n",
       "2. 1\n",
       "3. 0\n",
       "\n",
       "\n"
      ],
      "text/plain": [
       "[1] 1 1 0"
      ]
     },
     "metadata": {},
     "output_type": "display_data"
    }
   ],
   "source": [
    "d <- as.numeric(d)\n",
    "d"
   ]
  },
  {
   "cell_type": "code",
   "execution_count": 11,
   "metadata": {},
   "outputs": [
    {
     "data": {
      "text/html": [
       "<style>\n",
       ".list-inline {list-style: none; margin:0; padding: 0}\n",
       ".list-inline>li {display: inline-block}\n",
       ".list-inline>li:not(:last-child)::after {content: \"\\00b7\"; padding: 0 .5ex}\n",
       "</style>\n",
       "<ol class=list-inline><li>TRUE</li><li>TRUE</li><li>FALSE</li></ol>\n"
      ],
      "text/latex": [
       "\\begin{enumerate*}\n",
       "\\item TRUE\n",
       "\\item TRUE\n",
       "\\item FALSE\n",
       "\\end{enumerate*}\n"
      ],
      "text/markdown": [
       "1. TRUE\n",
       "2. TRUE\n",
       "3. FALSE\n",
       "\n",
       "\n"
      ],
      "text/plain": [
       "[1]  TRUE  TRUE FALSE"
      ]
     },
     "metadata": {},
     "output_type": "display_data"
    }
   ],
   "source": [
    "d<-as.logical(d)\n",
    "d"
   ]
  },
  {
   "cell_type": "markdown",
   "metadata": {},
   "source": [
    "If the data has the labels like 33 and 55 which does not denote true or false then, R will automatically consider all positive nos as true."
   ]
  },
  {
   "cell_type": "code",
   "execution_count": 12,
   "metadata": {},
   "outputs": [
    {
     "data": {
      "text/html": [
       "<style>\n",
       ".list-inline {list-style: none; margin:0; padding: 0}\n",
       ".list-inline>li {display: inline-block}\n",
       ".list-inline>li:not(:last-child)::after {content: \"\\00b7\"; padding: 0 .5ex}\n",
       "</style>\n",
       "<ol class=list-inline><li>0</li><li>1</li><li>33</li><li>55</li></ol>\n"
      ],
      "text/latex": [
       "\\begin{enumerate*}\n",
       "\\item 0\n",
       "\\item 1\n",
       "\\item 33\n",
       "\\item 55\n",
       "\\end{enumerate*}\n"
      ],
      "text/markdown": [
       "1. 0\n",
       "2. 1\n",
       "3. 33\n",
       "4. 55\n",
       "\n",
       "\n"
      ],
      "text/plain": [
       "[1]  0  1 33 55"
      ]
     },
     "metadata": {},
     "output_type": "display_data"
    }
   ],
   "source": [
    "e<-c(0,1,33,55)\n",
    "e"
   ]
  },
  {
   "cell_type": "code",
   "execution_count": 13,
   "metadata": {},
   "outputs": [
    {
     "data": {
      "text/html": [
       "<style>\n",
       ".list-inline {list-style: none; margin:0; padding: 0}\n",
       ".list-inline>li {display: inline-block}\n",
       ".list-inline>li:not(:last-child)::after {content: \"\\00b7\"; padding: 0 .5ex}\n",
       "</style>\n",
       "<ol class=list-inline><li>FALSE</li><li>TRUE</li><li>TRUE</li><li>TRUE</li></ol>\n"
      ],
      "text/latex": [
       "\\begin{enumerate*}\n",
       "\\item FALSE\n",
       "\\item TRUE\n",
       "\\item TRUE\n",
       "\\item TRUE\n",
       "\\end{enumerate*}\n"
      ],
      "text/markdown": [
       "1. FALSE\n",
       "2. TRUE\n",
       "3. TRUE\n",
       "4. TRUE\n",
       "\n",
       "\n"
      ],
      "text/plain": [
       "[1] FALSE  TRUE  TRUE  TRUE"
      ]
     },
     "metadata": {},
     "output_type": "display_data"
    }
   ],
   "source": [
    "e<-as.logical(e)\n",
    "e"
   ]
  },
  {
   "cell_type": "markdown",
   "metadata": {},
   "source": [
    "VECTORS EXPLAINED"
   ]
  },
  {
   "cell_type": "markdown",
   "metadata": {},
   "source": [
    "Assigning Values to the Vectors"
   ]
  },
  {
   "cell_type": "code",
   "execution_count": 14,
   "metadata": {},
   "outputs": [
    {
     "data": {
      "text/html": [
       "<style>\n",
       ".list-inline {list-style: none; margin:0; padding: 0}\n",
       ".list-inline>li {display: inline-block}\n",
       ".list-inline>li:not(:last-child)::after {content: \"\\00b7\"; padding: 0 .5ex}\n",
       "</style>\n",
       "<ol class=list-inline><li>1</li><li>2</li><li>4</li><li>6</li><li>7</li></ol>\n"
      ],
      "text/latex": [
       "\\begin{enumerate*}\n",
       "\\item 1\n",
       "\\item 2\n",
       "\\item 4\n",
       "\\item 6\n",
       "\\item 7\n",
       "\\end{enumerate*}\n"
      ],
      "text/markdown": [
       "1. 1\n",
       "2. 2\n",
       "3. 4\n",
       "4. 6\n",
       "5. 7\n",
       "\n",
       "\n"
      ],
      "text/plain": [
       "[1] 1 2 4 6 7"
      ]
     },
     "metadata": {},
     "output_type": "display_data"
    }
   ],
   "source": [
    "num.a<-c(1,2,4,6,7)\n",
    "num.a"
   ]
  },
  {
   "cell_type": "markdown",
   "metadata": {},
   "source": [
    "Assigning automatic way to assign values from 1 to 10 (1)"
   ]
  },
  {
   "cell_type": "code",
   "execution_count": 15,
   "metadata": {},
   "outputs": [
    {
     "data": {
      "text/html": [
       "<style>\n",
       ".list-inline {list-style: none; margin:0; padding: 0}\n",
       ".list-inline>li {display: inline-block}\n",
       ".list-inline>li:not(:last-child)::after {content: \"\\00b7\"; padding: 0 .5ex}\n",
       "</style>\n",
       "<ol class=list-inline><li>1</li><li>2</li><li>3</li><li>4</li><li>5</li><li>6</li><li>7</li><li>8</li><li>9</li><li>10</li></ol>\n"
      ],
      "text/latex": [
       "\\begin{enumerate*}\n",
       "\\item 1\n",
       "\\item 2\n",
       "\\item 3\n",
       "\\item 4\n",
       "\\item 5\n",
       "\\item 6\n",
       "\\item 7\n",
       "\\item 8\n",
       "\\item 9\n",
       "\\item 10\n",
       "\\end{enumerate*}\n"
      ],
      "text/markdown": [
       "1. 1\n",
       "2. 2\n",
       "3. 3\n",
       "4. 4\n",
       "5. 5\n",
       "6. 6\n",
       "7. 7\n",
       "8. 8\n",
       "9. 9\n",
       "10. 10\n",
       "\n",
       "\n"
      ],
      "text/plain": [
       " [1]  1  2  3  4  5  6  7  8  9 10"
      ]
     },
     "metadata": {},
     "output_type": "display_data"
    }
   ],
   "source": [
    "num.b<-c(1:10)\n",
    "num.b"
   ]
  },
  {
   "cell_type": "markdown",
   "metadata": {},
   "source": [
    "Assigning automatic way to assign values from 1 to 10, including other values"
   ]
  },
  {
   "cell_type": "code",
   "execution_count": 16,
   "metadata": {},
   "outputs": [
    {
     "data": {
      "text/html": [
       "<style>\n",
       ".list-inline {list-style: none; margin:0; padding: 0}\n",
       ".list-inline>li {display: inline-block}\n",
       ".list-inline>li:not(:last-child)::after {content: \"\\00b7\"; padding: 0 .5ex}\n",
       "</style>\n",
       "<ol class=list-inline><li>1</li><li>2</li><li>3</li><li>4</li><li>5</li><li>6</li><li>7</li><li>8</li><li>9</li><li>10</li><li>17</li><li>19</li></ol>\n"
      ],
      "text/latex": [
       "\\begin{enumerate*}\n",
       "\\item 1\n",
       "\\item 2\n",
       "\\item 3\n",
       "\\item 4\n",
       "\\item 5\n",
       "\\item 6\n",
       "\\item 7\n",
       "\\item 8\n",
       "\\item 9\n",
       "\\item 10\n",
       "\\item 17\n",
       "\\item 19\n",
       "\\end{enumerate*}\n"
      ],
      "text/markdown": [
       "1. 1\n",
       "2. 2\n",
       "3. 3\n",
       "4. 4\n",
       "5. 5\n",
       "6. 6\n",
       "7. 7\n",
       "8. 8\n",
       "9. 9\n",
       "10. 10\n",
       "11. 17\n",
       "12. 19\n",
       "\n",
       "\n"
      ],
      "text/plain": [
       " [1]  1  2  3  4  5  6  7  8  9 10 17 19"
      ]
     },
     "metadata": {},
     "output_type": "display_data"
    }
   ],
   "source": [
    "num.b<-c(1:10,17,19)\n",
    "num.b"
   ]
  },
  {
   "cell_type": "markdown",
   "metadata": {},
   "source": [
    "Assigning automatic way to assign values from 1 to 10 (2)"
   ]
  },
  {
   "cell_type": "code",
   "execution_count": 17,
   "metadata": {},
   "outputs": [
    {
     "data": {
      "text/html": [
       "<style>\n",
       ".list-inline {list-style: none; margin:0; padding: 0}\n",
       ".list-inline>li {display: inline-block}\n",
       ".list-inline>li:not(:last-child)::after {content: \"\\00b7\"; padding: 0 .5ex}\n",
       "</style>\n",
       "<ol class=list-inline><li>1</li><li>2</li><li>3</li><li>4</li><li>5</li><li>6</li><li>7</li><li>8</li><li>9</li><li>10</li></ol>\n"
      ],
      "text/latex": [
       "\\begin{enumerate*}\n",
       "\\item 1\n",
       "\\item 2\n",
       "\\item 3\n",
       "\\item 4\n",
       "\\item 5\n",
       "\\item 6\n",
       "\\item 7\n",
       "\\item 8\n",
       "\\item 9\n",
       "\\item 10\n",
       "\\end{enumerate*}\n"
      ],
      "text/markdown": [
       "1. 1\n",
       "2. 2\n",
       "3. 3\n",
       "4. 4\n",
       "5. 5\n",
       "6. 6\n",
       "7. 7\n",
       "8. 8\n",
       "9. 9\n",
       "10. 10\n",
       "\n",
       "\n"
      ],
      "text/plain": [
       " [1]  1  2  3  4  5  6  7  8  9 10"
      ]
     },
     "metadata": {},
     "output_type": "display_data"
    }
   ],
   "source": [
    "num.d<-c(seq(1,10))\n",
    "num.d"
   ]
  },
  {
   "cell_type": "markdown",
   "metadata": {},
   "source": [
    "Assigning the values in sequence and selecting specific data, by writing 3 i.e., dividing the data into 3"
   ]
  },
  {
   "cell_type": "code",
   "execution_count": 18,
   "metadata": {},
   "outputs": [
    {
     "data": {
      "text/html": [
       "<style>\n",
       ".list-inline {list-style: none; margin:0; padding: 0}\n",
       ".list-inline>li {display: inline-block}\n",
       ".list-inline>li:not(:last-child)::after {content: \"\\00b7\"; padding: 0 .5ex}\n",
       "</style>\n",
       "<ol class=list-inline><li>1</li><li>4</li><li>7</li><li>10</li></ol>\n"
      ],
      "text/latex": [
       "\\begin{enumerate*}\n",
       "\\item 1\n",
       "\\item 4\n",
       "\\item 7\n",
       "\\item 10\n",
       "\\end{enumerate*}\n"
      ],
      "text/markdown": [
       "1. 1\n",
       "2. 4\n",
       "3. 7\n",
       "4. 10\n",
       "\n",
       "\n"
      ],
      "text/plain": [
       "[1]  1  4  7 10"
      ]
     },
     "metadata": {},
     "output_type": "display_data"
    }
   ],
   "source": [
    "num.e<-c(seq(1,10, by=3))\n",
    "num.e"
   ]
  },
  {
   "cell_type": "markdown",
   "metadata": {},
   "source": [
    "Assigning character values to the vector"
   ]
  },
  {
   "cell_type": "code",
   "execution_count": 19,
   "metadata": {},
   "outputs": [
    {
     "data": {
      "text/html": [
       "<style>\n",
       ".list-inline {list-style: none; margin:0; padding: 0}\n",
       ".list-inline>li {display: inline-block}\n",
       ".list-inline>li:not(:last-child)::after {content: \"\\00b7\"; padding: 0 .5ex}\n",
       "</style>\n",
       "<ol class=list-inline><li>'a'</li><li>'b'</li><li>'c'</li><li>'d'</li><li>'e'</li></ol>\n"
      ],
      "text/latex": [
       "\\begin{enumerate*}\n",
       "\\item 'a'\n",
       "\\item 'b'\n",
       "\\item 'c'\n",
       "\\item 'd'\n",
       "\\item 'e'\n",
       "\\end{enumerate*}\n"
      ],
      "text/markdown": [
       "1. 'a'\n",
       "2. 'b'\n",
       "3. 'c'\n",
       "4. 'd'\n",
       "5. 'e'\n",
       "\n",
       "\n"
      ],
      "text/plain": [
       "[1] \"a\" \"b\" \"c\" \"d\" \"e\""
      ]
     },
     "metadata": {},
     "output_type": "display_data"
    }
   ],
   "source": [
    "char.a<-c('a','b','c','d','e')\n",
    "char.a"
   ]
  },
  {
   "cell_type": "markdown",
   "metadata": {},
   "source": [
    "Checking whether the values entered above are character"
   ]
  },
  {
   "cell_type": "code",
   "execution_count": 20,
   "metadata": {},
   "outputs": [
    {
     "data": {
      "text/html": [
       "'character'"
      ],
      "text/latex": [
       "'character'"
      ],
      "text/markdown": [
       "'character'"
      ],
      "text/plain": [
       "[1] \"character\""
      ]
     },
     "metadata": {},
     "output_type": "display_data"
    }
   ],
   "source": [
    "class(char.a)"
   ]
  },
  {
   "cell_type": "markdown",
   "metadata": {},
   "source": [
    "Assigning 2 value to character b"
   ]
  },
  {
   "cell_type": "code",
   "execution_count": 21,
   "metadata": {},
   "outputs": [
    {
     "data": {
      "text/html": [
       "'b'"
      ],
      "text/latex": [
       "'b'"
      ],
      "text/markdown": [
       "'b'"
      ],
      "text/plain": [
       "[1] \"b\""
      ]
     },
     "metadata": {},
     "output_type": "display_data"
    }
   ],
   "source": [
    "char.a[2]"
   ]
  },
  {
   "cell_type": "markdown",
   "metadata": {},
   "source": [
    "Assigning 2 to 4 values to character b,c,d"
   ]
  },
  {
   "cell_type": "code",
   "execution_count": 22,
   "metadata": {},
   "outputs": [
    {
     "data": {
      "text/html": [
       "<style>\n",
       ".list-inline {list-style: none; margin:0; padding: 0}\n",
       ".list-inline>li {display: inline-block}\n",
       ".list-inline>li:not(:last-child)::after {content: \"\\00b7\"; padding: 0 .5ex}\n",
       "</style>\n",
       "<ol class=list-inline><li>'b'</li><li>'c'</li><li>'d'</li></ol>\n"
      ],
      "text/latex": [
       "\\begin{enumerate*}\n",
       "\\item 'b'\n",
       "\\item 'c'\n",
       "\\item 'd'\n",
       "\\end{enumerate*}\n"
      ],
      "text/markdown": [
       "1. 'b'\n",
       "2. 'c'\n",
       "3. 'd'\n",
       "\n",
       "\n"
      ],
      "text/plain": [
       "[1] \"b\" \"c\" \"d\""
      ]
     },
     "metadata": {},
     "output_type": "display_data"
    }
   ],
   "source": [
    "char.a[2:4]"
   ]
  },
  {
   "cell_type": "markdown",
   "metadata": {},
   "source": [
    "Converting char.a to num.a (character to numeric values)"
   ]
  },
  {
   "cell_type": "code",
   "execution_count": 23,
   "metadata": {},
   "outputs": [
    {
     "data": {
      "text/html": [
       "<style>\n",
       ".list-inline {list-style: none; margin:0; padding: 0}\n",
       ".list-inline>li {display: inline-block}\n",
       ".list-inline>li:not(:last-child)::after {content: \"\\00b7\"; padding: 0 .5ex}\n",
       "</style>\n",
       "<ol class=list-inline><li>1</li><li>2</li><li>4</li><li>6</li><li>7</li></ol>\n"
      ],
      "text/latex": [
       "\\begin{enumerate*}\n",
       "\\item 1\n",
       "\\item 2\n",
       "\\item 4\n",
       "\\item 6\n",
       "\\item 7\n",
       "\\end{enumerate*}\n"
      ],
      "text/markdown": [
       "1. 1\n",
       "2. 2\n",
       "3. 4\n",
       "4. 6\n",
       "5. 7\n",
       "\n",
       "\n"
      ],
      "text/plain": [
       "[1] 1 2 4 6 7"
      ]
     },
     "metadata": {},
     "output_type": "display_data"
    }
   ],
   "source": [
    "num.a"
   ]
  },
  {
   "cell_type": "markdown",
   "metadata": {},
   "source": [
    "Assigning names to num.a like how we denote sequence"
   ]
  },
  {
   "cell_type": "code",
   "execution_count": 24,
   "metadata": {},
   "outputs": [
    {
     "data": {
      "text/html": [
       "<style>\n",
       ".list-inline {list-style: none; margin:0; padding: 0}\n",
       ".list-inline>li {display: inline-block}\n",
       ".list-inline>li:not(:last-child)::after {content: \"\\00b7\"; padding: 0 .5ex}\n",
       "</style>\n",
       "<ol class=list-inline><li>'a'</li><li>'b'</li><li>'c'</li><li>'d'</li><li>'e'</li></ol>\n"
      ],
      "text/latex": [
       "\\begin{enumerate*}\n",
       "\\item 'a'\n",
       "\\item 'b'\n",
       "\\item 'c'\n",
       "\\item 'd'\n",
       "\\item 'e'\n",
       "\\end{enumerate*}\n"
      ],
      "text/markdown": [
       "1. 'a'\n",
       "2. 'b'\n",
       "3. 'c'\n",
       "4. 'd'\n",
       "5. 'e'\n",
       "\n",
       "\n"
      ],
      "text/plain": [
       "[1] \"a\" \"b\" \"c\" \"d\" \"e\""
      ]
     },
     "metadata": {},
     "output_type": "display_data"
    }
   ],
   "source": [
    "names(num.a)<-c(\"a\",\"b\",\"c\",\"d\",\"e\")\n",
    "names(num.a)"
   ]
  },
  {
   "cell_type": "markdown",
   "metadata": {},
   "source": [
    "Checking whether the character b value is 2"
   ]
  },
  {
   "cell_type": "code",
   "execution_count": 25,
   "metadata": {},
   "outputs": [
    {
     "data": {
      "text/html": [
       "<strong>b:</strong> 2"
      ],
      "text/latex": [
       "\\textbf{b:} 2"
      ],
      "text/markdown": [
       "**b:** 2"
      ],
      "text/plain": [
       "b \n",
       "2 "
      ]
     },
     "metadata": {},
     "output_type": "display_data"
    }
   ],
   "source": [
    "num.a[2]"
   ]
  },
  {
   "cell_type": "code",
   "execution_count": 26,
   "metadata": {},
   "outputs": [
    {
     "data": {
      "text/html": [
       "<strong>b:</strong> 2"
      ],
      "text/latex": [
       "\\textbf{b:} 2"
      ],
      "text/markdown": [
       "**b:** 2"
      ],
      "text/plain": [
       "b \n",
       "2 "
      ]
     },
     "metadata": {},
     "output_type": "display_data"
    }
   ],
   "source": [
    "num.a[\"b\"]"
   ]
  },
  {
   "cell_type": "markdown",
   "metadata": {},
   "source": [
    "FACTORS EXPLAINED"
   ]
  },
  {
   "cell_type": "markdown",
   "metadata": {},
   "source": []
  },
  {
   "cell_type": "code",
   "execution_count": 27,
   "metadata": {},
   "outputs": [],
   "source": [
    "student.height<-c(130,121,122,111,109,111,141,131,114)"
   ]
  },
  {
   "cell_type": "code",
   "execution_count": 28,
   "metadata": {},
   "outputs": [
    {
     "data": {
      "text/html": [
       "121.111111111111"
      ],
      "text/latex": [
       "121.111111111111"
      ],
      "text/markdown": [
       "121.111111111111"
      ],
      "text/plain": [
       "[1] 121.1111"
      ]
     },
     "metadata": {},
     "output_type": "display_data"
    }
   ],
   "source": [
    "mean(student.height)"
   ]
  },
  {
   "cell_type": "code",
   "execution_count": 29,
   "metadata": {},
   "outputs": [
    {
     "data": {
      "text/plain": [
       "   Min. 1st Qu.  Median    Mean 3rd Qu.    Max. \n",
       "  109.0   111.0   121.0   121.1   130.0   141.0 "
      ]
     },
     "metadata": {},
     "output_type": "display_data"
    }
   ],
   "source": [
    "summary(student.height)"
   ]
  },
  {
   "cell_type": "code",
   "execution_count": 30,
   "metadata": {},
   "outputs": [],
   "source": [
    "airports<-c('DEL','CAL','NYC','CAL','DEL','DEL')"
   ]
  },
  {
   "cell_type": "code",
   "execution_count": 31,
   "metadata": {},
   "outputs": [
    {
     "data": {
      "text/plain": [
       "   Length     Class      Mode \n",
       "        6 character character "
      ]
     },
     "metadata": {},
     "output_type": "display_data"
    }
   ],
   "source": [
    "summary(airports)"
   ]
  },
  {
   "cell_type": "markdown",
   "metadata": {},
   "source": [
    "Level of data: Nominal, Ordinal, Interval, Ratio"
   ]
  },
  {
   "cell_type": "markdown",
   "metadata": {},
   "source": [
    "Airport=Nominal data so convert into Factor"
   ]
  },
  {
   "cell_type": "code",
   "execution_count": 32,
   "metadata": {},
   "outputs": [
    {
     "data": {
      "text/html": [
       "<style>\n",
       ".list-inline {list-style: none; margin:0; padding: 0}\n",
       ".list-inline>li {display: inline-block}\n",
       ".list-inline>li:not(:last-child)::after {content: \"\\00b7\"; padding: 0 .5ex}\n",
       "</style>\n",
       "<ol class=list-inline><li>DEL</li><li>CAL</li><li>NYC</li><li>CAL</li><li>DEL</li><li>DEL</li></ol>\n",
       "\n",
       "<details>\n",
       "\t<summary style=display:list-item;cursor:pointer>\n",
       "\t\t<strong>Levels</strong>:\n",
       "\t</summary>\n",
       "\t<style>\n",
       "\t.list-inline {list-style: none; margin:0; padding: 0}\n",
       "\t.list-inline>li {display: inline-block}\n",
       "\t.list-inline>li:not(:last-child)::after {content: \"\\00b7\"; padding: 0 .5ex}\n",
       "\t</style>\n",
       "\t<ol class=list-inline><li>'CAL'</li><li>'DEL'</li><li>'NYC'</li></ol>\n",
       "</details>"
      ],
      "text/latex": [
       "\\begin{enumerate*}\n",
       "\\item DEL\n",
       "\\item CAL\n",
       "\\item NYC\n",
       "\\item CAL\n",
       "\\item DEL\n",
       "\\item DEL\n",
       "\\end{enumerate*}\n",
       "\n",
       "\\emph{Levels}: \\begin{enumerate*}\n",
       "\\item 'CAL'\n",
       "\\item 'DEL'\n",
       "\\item 'NYC'\n",
       "\\end{enumerate*}\n"
      ],
      "text/markdown": [
       "1. DEL\n",
       "2. CAL\n",
       "3. NYC\n",
       "4. CAL\n",
       "5. DEL\n",
       "6. DEL\n",
       "\n",
       "\n",
       "\n",
       "**Levels**: 1. 'CAL'\n",
       "2. 'DEL'\n",
       "3. 'NYC'\n",
       "\n",
       "\n"
      ],
      "text/plain": [
       "[1] DEL CAL NYC CAL DEL DEL\n",
       "Levels: CAL DEL NYC"
      ]
     },
     "metadata": {},
     "output_type": "display_data"
    }
   ],
   "source": [
    "factor(airports)"
   ]
  },
  {
   "cell_type": "code",
   "execution_count": 33,
   "metadata": {},
   "outputs": [
    {
     "data": {
      "text/html": [
       "<style>\n",
       ".list-inline {list-style: none; margin:0; padding: 0}\n",
       ".list-inline>li {display: inline-block}\n",
       ".list-inline>li:not(:last-child)::after {content: \"\\00b7\"; padding: 0 .5ex}\n",
       "</style>\n",
       "<ol class=list-inline><li>DEL</li><li>CAL</li><li>NYC</li><li>CAL</li><li>DEL</li><li>DEL</li></ol>\n",
       "\n",
       "<details>\n",
       "\t<summary style=display:list-item;cursor:pointer>\n",
       "\t\t<strong>Levels</strong>:\n",
       "\t</summary>\n",
       "\t<style>\n",
       "\t.list-inline {list-style: none; margin:0; padding: 0}\n",
       "\t.list-inline>li {display: inline-block}\n",
       "\t.list-inline>li:not(:last-child)::after {content: \"\\00b7\"; padding: 0 .5ex}\n",
       "\t</style>\n",
       "\t<ol class=list-inline><li>'CAL'</li><li>'DEL'</li><li>'NYC'</li></ol>\n",
       "</details>"
      ],
      "text/latex": [
       "\\begin{enumerate*}\n",
       "\\item DEL\n",
       "\\item CAL\n",
       "\\item NYC\n",
       "\\item CAL\n",
       "\\item DEL\n",
       "\\item DEL\n",
       "\\end{enumerate*}\n",
       "\n",
       "\\emph{Levels}: \\begin{enumerate*}\n",
       "\\item 'CAL'\n",
       "\\item 'DEL'\n",
       "\\item 'NYC'\n",
       "\\end{enumerate*}\n"
      ],
      "text/markdown": [
       "1. DEL\n",
       "2. CAL\n",
       "3. NYC\n",
       "4. CAL\n",
       "5. DEL\n",
       "6. DEL\n",
       "\n",
       "\n",
       "\n",
       "**Levels**: 1. 'CAL'\n",
       "2. 'DEL'\n",
       "3. 'NYC'\n",
       "\n",
       "\n"
      ],
      "text/plain": [
       "[1] DEL CAL NYC CAL DEL DEL\n",
       "Levels: CAL DEL NYC"
      ]
     },
     "metadata": {},
     "output_type": "display_data"
    }
   ],
   "source": [
    "airport.fact<-factor(airports)\n",
    "airport.fact"
   ]
  },
  {
   "cell_type": "code",
   "execution_count": 34,
   "metadata": {},
   "outputs": [
    {
     "data": {
      "text/html": [
       "<style>\n",
       ".dl-inline {width: auto; margin:0; padding: 0}\n",
       ".dl-inline>dt, .dl-inline>dd {float: none; width: auto; display: inline-block}\n",
       ".dl-inline>dt::after {content: \":\\0020\"; padding-right: .5ex}\n",
       ".dl-inline>dt:not(:first-of-type) {padding-left: .5ex}\n",
       "</style><dl class=dl-inline><dt>CAL</dt><dd>2</dd><dt>DEL</dt><dd>3</dd><dt>NYC</dt><dd>1</dd></dl>\n"
      ],
      "text/latex": [
       "\\begin{description*}\n",
       "\\item[CAL] 2\n",
       "\\item[DEL] 3\n",
       "\\item[NYC] 1\n",
       "\\end{description*}\n"
      ],
      "text/markdown": [
       "CAL\n",
       ":   2DEL\n",
       ":   3NYC\n",
       ":   1\n",
       "\n"
      ],
      "text/plain": [
       "CAL DEL NYC \n",
       "  2   3   1 "
      ]
     },
     "metadata": {},
     "output_type": "display_data"
    }
   ],
   "source": [
    "summary(airport.fact)"
   ]
  },
  {
   "cell_type": "code",
   "execution_count": 35,
   "metadata": {},
   "outputs": [
    {
     "data": {
      "text/html": [
       "<style>\n",
       ".list-inline {list-style: none; margin:0; padding: 0}\n",
       ".list-inline>li {display: inline-block}\n",
       ".list-inline>li:not(:last-child)::after {content: \"\\00b7\"; padding: 0 .5ex}\n",
       "</style>\n",
       "<ol class=list-inline><li>'March'</li><li>'April'</li><li>'January'</li><li>'November'</li><li>'January'</li><li>'September'</li><li>'October'</li><li>'September'</li><li>'September'</li><li>'November'</li><li>'August'</li><li>'January'</li><li>'November'</li><li>'November'</li><li>'February'</li><li>'May'</li><li>'August'</li><li>'December'</li><li>'August'</li><li>'August'</li><li>'September'</li><li>'November'</li><li>'February'</li><li>'April'</li></ol>\n"
      ],
      "text/latex": [
       "\\begin{enumerate*}\n",
       "\\item 'March'\n",
       "\\item 'April'\n",
       "\\item 'January'\n",
       "\\item 'November'\n",
       "\\item 'January'\n",
       "\\item 'September'\n",
       "\\item 'October'\n",
       "\\item 'September'\n",
       "\\item 'September'\n",
       "\\item 'November'\n",
       "\\item 'August'\n",
       "\\item 'January'\n",
       "\\item 'November'\n",
       "\\item 'November'\n",
       "\\item 'February'\n",
       "\\item 'May'\n",
       "\\item 'August'\n",
       "\\item 'December'\n",
       "\\item 'August'\n",
       "\\item 'August'\n",
       "\\item 'September'\n",
       "\\item 'November'\n",
       "\\item 'February'\n",
       "\\item 'April'\n",
       "\\end{enumerate*}\n"
      ],
      "text/markdown": [
       "1. 'March'\n",
       "2. 'April'\n",
       "3. 'January'\n",
       "4. 'November'\n",
       "5. 'January'\n",
       "6. 'September'\n",
       "7. 'October'\n",
       "8. 'September'\n",
       "9. 'September'\n",
       "10. 'November'\n",
       "11. 'August'\n",
       "12. 'January'\n",
       "13. 'November'\n",
       "14. 'November'\n",
       "15. 'February'\n",
       "16. 'May'\n",
       "17. 'August'\n",
       "18. 'December'\n",
       "19. 'August'\n",
       "20. 'August'\n",
       "21. 'September'\n",
       "22. 'November'\n",
       "23. 'February'\n",
       "24. 'April'\n",
       "\n",
       "\n"
      ],
      "text/plain": [
       " [1] \"March\"     \"April\"     \"January\"   \"November\"  \"January\"   \"September\"\n",
       " [7] \"October\"   \"September\" \"September\" \"November\"  \"August\"    \"January\"  \n",
       "[13] \"November\"  \"November\"  \"February\"  \"May\"       \"August\"    \"December\" \n",
       "[19] \"August\"    \"August\"    \"September\" \"November\"  \"February\"  \"April\"    "
      ]
     },
     "metadata": {},
     "output_type": "display_data"
    }
   ],
   "source": [
    "birth.month=c(\"March\",\"April\",\"January\",\"November\",\"January\",\"September\",\"October\",\"September\",\"September\",\"November\",\"August\",\"January\",\"November\",\"November\",\"February\",\"May\",\"August\",\"December\",\"August\",\"August\",\"September\",\"November\",\"February\",\"April\")\n",
    "birth.month"
   ]
  },
  {
   "cell_type": "code",
   "execution_count": 36,
   "metadata": {},
   "outputs": [
    {
     "data": {
      "text/plain": [
       "   Length     Class      Mode \n",
       "       24 character character "
      ]
     },
     "metadata": {},
     "output_type": "display_data"
    }
   ],
   "source": [
    "summary(birth.month)"
   ]
  },
  {
   "cell_type": "code",
   "execution_count": 37,
   "metadata": {},
   "outputs": [
    {
     "data": {
      "text/html": [
       "<style>\n",
       ".list-inline {list-style: none; margin:0; padding: 0}\n",
       ".list-inline>li {display: inline-block}\n",
       ".list-inline>li:not(:last-child)::after {content: \"\\00b7\"; padding: 0 .5ex}\n",
       "</style>\n",
       "<ol class=list-inline><li>March</li><li>April</li><li>January</li><li>November</li><li>January</li><li>September</li><li>October</li><li>September</li><li>September</li><li>November</li><li>August</li><li>January</li><li>November</li><li>November</li><li>February</li><li>May</li><li>August</li><li>December</li><li>August</li><li>August</li><li>September</li><li>November</li><li>February</li><li>April</li></ol>\n",
       "\n",
       "<details>\n",
       "\t<summary style=display:list-item;cursor:pointer>\n",
       "\t\t<strong>Levels</strong>:\n",
       "\t</summary>\n",
       "\t<style>\n",
       "\t.list-inline {list-style: none; margin:0; padding: 0}\n",
       "\t.list-inline>li {display: inline-block}\n",
       "\t.list-inline>li:not(:last-child)::after {content: \"\\00b7\"; padding: 0 .5ex}\n",
       "\t</style>\n",
       "\t<ol class=list-inline><li>'April'</li><li>'August'</li><li>'December'</li><li>'February'</li><li>'January'</li><li>'March'</li><li>'May'</li><li>'November'</li><li>'October'</li><li>'September'</li></ol>\n",
       "</details>"
      ],
      "text/latex": [
       "\\begin{enumerate*}\n",
       "\\item March\n",
       "\\item April\n",
       "\\item January\n",
       "\\item November\n",
       "\\item January\n",
       "\\item September\n",
       "\\item October\n",
       "\\item September\n",
       "\\item September\n",
       "\\item November\n",
       "\\item August\n",
       "\\item January\n",
       "\\item November\n",
       "\\item November\n",
       "\\item February\n",
       "\\item May\n",
       "\\item August\n",
       "\\item December\n",
       "\\item August\n",
       "\\item August\n",
       "\\item September\n",
       "\\item November\n",
       "\\item February\n",
       "\\item April\n",
       "\\end{enumerate*}\n",
       "\n",
       "\\emph{Levels}: \\begin{enumerate*}\n",
       "\\item 'April'\n",
       "\\item 'August'\n",
       "\\item 'December'\n",
       "\\item 'February'\n",
       "\\item 'January'\n",
       "\\item 'March'\n",
       "\\item 'May'\n",
       "\\item 'November'\n",
       "\\item 'October'\n",
       "\\item 'September'\n",
       "\\end{enumerate*}\n"
      ],
      "text/markdown": [
       "1. March\n",
       "2. April\n",
       "3. January\n",
       "4. November\n",
       "5. January\n",
       "6. September\n",
       "7. October\n",
       "8. September\n",
       "9. September\n",
       "10. November\n",
       "11. August\n",
       "12. January\n",
       "13. November\n",
       "14. November\n",
       "15. February\n",
       "16. May\n",
       "17. August\n",
       "18. December\n",
       "19. August\n",
       "20. August\n",
       "21. September\n",
       "22. November\n",
       "23. February\n",
       "24. April\n",
       "\n",
       "\n",
       "\n",
       "**Levels**: 1. 'April'\n",
       "2. 'August'\n",
       "3. 'December'\n",
       "4. 'February'\n",
       "5. 'January'\n",
       "6. 'March'\n",
       "7. 'May'\n",
       "8. 'November'\n",
       "9. 'October'\n",
       "10. 'September'\n",
       "\n",
       "\n"
      ],
      "text/plain": [
       " [1] March     April     January   November  January   September October  \n",
       " [8] September September November  August    January   November  November \n",
       "[15] February  May       August    December  August    August    September\n",
       "[22] November  February  April    \n",
       "10 Levels: April August December February January March May ... September"
      ]
     },
     "metadata": {},
     "output_type": "display_data"
    }
   ],
   "source": [
    "birth.month.fact<-factor(birth.month)\n",
    "birth.month.fact"
   ]
  },
  {
   "cell_type": "code",
   "execution_count": 38,
   "metadata": {},
   "outputs": [
    {
     "data": {
      "text/html": [
       "<style>\n",
       ".dl-inline {width: auto; margin:0; padding: 0}\n",
       ".dl-inline>dt, .dl-inline>dd {float: none; width: auto; display: inline-block}\n",
       ".dl-inline>dt::after {content: \":\\0020\"; padding-right: .5ex}\n",
       ".dl-inline>dt:not(:first-of-type) {padding-left: .5ex}\n",
       "</style><dl class=dl-inline><dt>April</dt><dd>2</dd><dt>August</dt><dd>4</dd><dt>December</dt><dd>1</dd><dt>February</dt><dd>2</dd><dt>January</dt><dd>3</dd><dt>March</dt><dd>1</dd><dt>May</dt><dd>1</dd><dt>November</dt><dd>5</dd><dt>October</dt><dd>1</dd><dt>September</dt><dd>4</dd></dl>\n"
      ],
      "text/latex": [
       "\\begin{description*}\n",
       "\\item[April] 2\n",
       "\\item[August] 4\n",
       "\\item[December] 1\n",
       "\\item[February] 2\n",
       "\\item[January] 3\n",
       "\\item[March] 1\n",
       "\\item[May] 1\n",
       "\\item[November] 5\n",
       "\\item[October] 1\n",
       "\\item[September] 4\n",
       "\\end{description*}\n"
      ],
      "text/markdown": [
       "April\n",
       ":   2August\n",
       ":   4December\n",
       ":   1February\n",
       ":   2January\n",
       ":   3March\n",
       ":   1May\n",
       ":   1November\n",
       ":   5October\n",
       ":   1September\n",
       ":   4\n",
       "\n"
      ],
      "text/plain": [
       "    April    August  December  February   January     March       May  November \n",
       "        2         4         1         2         3         1         1         5 \n",
       "  October September \n",
       "        1         4 "
      ]
     },
     "metadata": {},
     "output_type": "display_data"
    }
   ],
   "source": [
    "summary(birth.month.fact)"
   ]
  },
  {
   "cell_type": "code",
   "execution_count": 39,
   "metadata": {},
   "outputs": [],
   "source": [
    "months<-c(\"January\",\"February\",\"March\",\"April\",\"May\",\"June\",\"July\",\"August\",\"September\",\"October\",\"November\",\"December\")"
   ]
  },
  {
   "cell_type": "markdown",
   "metadata": {},
   "source": [
    "Above is an ordinal data, so you can predefine the levels"
   ]
  },
  {
   "cell_type": "code",
   "execution_count": 40,
   "metadata": {},
   "outputs": [
    {
     "data": {
      "text/html": [
       "<style>\n",
       ".list-inline {list-style: none; margin:0; padding: 0}\n",
       ".list-inline>li {display: inline-block}\n",
       ".list-inline>li:not(:last-child)::after {content: \"\\00b7\"; padding: 0 .5ex}\n",
       "</style>\n",
       "<ol class=list-inline><li>March</li><li>April</li><li>January</li><li>November</li><li>January</li><li>September</li><li>October</li><li>September</li><li>September</li><li>November</li><li>August</li><li>January</li><li>November</li><li>November</li><li>February</li><li>May</li><li>August</li><li>December</li><li>August</li><li>August</li><li>September</li><li>November</li><li>February</li><li>April</li></ol>\n",
       "\n",
       "<details>\n",
       "\t<summary style=display:list-item;cursor:pointer>\n",
       "\t\t<strong>Levels</strong>:\n",
       "\t</summary>\n",
       "\t<style>\n",
       "\t.list-inline {list-style: none; margin:0; padding: 0}\n",
       "\t.list-inline>li {display: inline-block}\n",
       "\t.list-inline>li:not(:last-child)::after {content: \"\\00b7\"; padding: 0 .5ex}\n",
       "\t</style>\n",
       "\t<ol class=list-inline><li>'January'</li><li>'February'</li><li>'March'</li><li>'April'</li><li>'May'</li><li>'June'</li><li>'July'</li><li>'August'</li><li>'September'</li><li>'October'</li><li>'November'</li><li>'December'</li></ol>\n",
       "</details>"
      ],
      "text/latex": [
       "\\begin{enumerate*}\n",
       "\\item March\n",
       "\\item April\n",
       "\\item January\n",
       "\\item November\n",
       "\\item January\n",
       "\\item September\n",
       "\\item October\n",
       "\\item September\n",
       "\\item September\n",
       "\\item November\n",
       "\\item August\n",
       "\\item January\n",
       "\\item November\n",
       "\\item November\n",
       "\\item February\n",
       "\\item May\n",
       "\\item August\n",
       "\\item December\n",
       "\\item August\n",
       "\\item August\n",
       "\\item September\n",
       "\\item November\n",
       "\\item February\n",
       "\\item April\n",
       "\\end{enumerate*}\n",
       "\n",
       "\\emph{Levels}: \\begin{enumerate*}\n",
       "\\item 'January'\n",
       "\\item 'February'\n",
       "\\item 'March'\n",
       "\\item 'April'\n",
       "\\item 'May'\n",
       "\\item 'June'\n",
       "\\item 'July'\n",
       "\\item 'August'\n",
       "\\item 'September'\n",
       "\\item 'October'\n",
       "\\item 'November'\n",
       "\\item 'December'\n",
       "\\end{enumerate*}\n"
      ],
      "text/markdown": [
       "1. March\n",
       "2. April\n",
       "3. January\n",
       "4. November\n",
       "5. January\n",
       "6. September\n",
       "7. October\n",
       "8. September\n",
       "9. September\n",
       "10. November\n",
       "11. August\n",
       "12. January\n",
       "13. November\n",
       "14. November\n",
       "15. February\n",
       "16. May\n",
       "17. August\n",
       "18. December\n",
       "19. August\n",
       "20. August\n",
       "21. September\n",
       "22. November\n",
       "23. February\n",
       "24. April\n",
       "\n",
       "\n",
       "\n",
       "**Levels**: 1. 'January'\n",
       "2. 'February'\n",
       "3. 'March'\n",
       "4. 'April'\n",
       "5. 'May'\n",
       "6. 'June'\n",
       "7. 'July'\n",
       "8. 'August'\n",
       "9. 'September'\n",
       "10. 'October'\n",
       "11. 'November'\n",
       "12. 'December'\n",
       "\n",
       "\n"
      ],
      "text/plain": [
       " [1] March     April     January   November  January   September October  \n",
       " [8] September September November  August    January   November  November \n",
       "[15] February  May       August    December  August    August    September\n",
       "[22] November  February  April    \n",
       "12 Levels: January < February < March < April < May < June < ... < December"
      ]
     },
     "metadata": {},
     "output_type": "display_data"
    }
   ],
   "source": [
    "birth.month.fact<-factor(birth.month,ordered=TRUE,levels=months)\n",
    "birth.month.fact"
   ]
  },
  {
   "cell_type": "code",
   "execution_count": 41,
   "metadata": {},
   "outputs": [
    {
     "data": {
      "text/html": [
       "<style>\n",
       ".dl-inline {width: auto; margin:0; padding: 0}\n",
       ".dl-inline>dt, .dl-inline>dd {float: none; width: auto; display: inline-block}\n",
       ".dl-inline>dt::after {content: \":\\0020\"; padding-right: .5ex}\n",
       ".dl-inline>dt:not(:first-of-type) {padding-left: .5ex}\n",
       "</style><dl class=dl-inline><dt>January</dt><dd>3</dd><dt>February</dt><dd>2</dd><dt>March</dt><dd>1</dd><dt>April</dt><dd>2</dd><dt>May</dt><dd>1</dd><dt>June</dt><dd>0</dd><dt>July</dt><dd>0</dd><dt>August</dt><dd>4</dd><dt>September</dt><dd>4</dd><dt>October</dt><dd>1</dd><dt>November</dt><dd>5</dd><dt>December</dt><dd>1</dd></dl>\n"
      ],
      "text/latex": [
       "\\begin{description*}\n",
       "\\item[January] 3\n",
       "\\item[February] 2\n",
       "\\item[March] 1\n",
       "\\item[April] 2\n",
       "\\item[May] 1\n",
       "\\item[June] 0\n",
       "\\item[July] 0\n",
       "\\item[August] 4\n",
       "\\item[September] 4\n",
       "\\item[October] 1\n",
       "\\item[November] 5\n",
       "\\item[December] 1\n",
       "\\end{description*}\n"
      ],
      "text/markdown": [
       "January\n",
       ":   3February\n",
       ":   2March\n",
       ":   1April\n",
       ":   2May\n",
       ":   1June\n",
       ":   0July\n",
       ":   0August\n",
       ":   4September\n",
       ":   4October\n",
       ":   1November\n",
       ":   5December\n",
       ":   1\n",
       "\n"
      ],
      "text/plain": [
       "  January  February     March     April       May      June      July    August \n",
       "        3         2         1         2         1         0         0         4 \n",
       "September   October  November  December \n",
       "        4         1         5         1 "
      ]
     },
     "metadata": {},
     "output_type": "display_data"
    }
   ],
   "source": [
    "summary(birth.month.fact)"
   ]
  },
  {
   "cell_type": "code",
   "execution_count": 42,
   "metadata": {},
   "outputs": [
    {
     "data": {
      "text/plain": [
       "birth.month.fact\n",
       "  January  February     March     April       May      June      July    August \n",
       "        3         2         1         2         1         0         0         4 \n",
       "September   October  November  December \n",
       "        4         1         5         1 "
      ]
     },
     "metadata": {},
     "output_type": "display_data"
    }
   ],
   "source": [
    "table(birth.month.fact)"
   ]
  },
  {
   "cell_type": "markdown",
   "metadata": {},
   "source": [
    "LIST EXPLAINED"
   ]
  },
  {
   "cell_type": "markdown",
   "metadata": {},
   "source": [
    "List can club everything in bundle"
   ]
  },
  {
   "cell_type": "code",
   "execution_count": 47,
   "metadata": {},
   "outputs": [
    {
     "data": {
      "text/html": [
       "<style>\n",
       ".list-inline {list-style: none; margin:0; padding: 0}\n",
       ".list-inline>li {display: inline-block}\n",
       ".list-inline>li:not(:last-child)::after {content: \"\\00b7\"; padding: 0 .5ex}\n",
       "</style>\n",
       "<ol class=list-inline><li>1</li><li>4</li><li>6</li></ol>\n"
      ],
      "text/latex": [
       "\\begin{enumerate*}\n",
       "\\item 1\n",
       "\\item 4\n",
       "\\item 6\n",
       "\\end{enumerate*}\n"
      ],
      "text/markdown": [
       "1. 1\n",
       "2. 4\n",
       "3. 6\n",
       "\n",
       "\n"
      ],
      "text/plain": [
       "[1] 1 4 6"
      ]
     },
     "metadata": {},
     "output_type": "display_data"
    }
   ],
   "source": [
    "a<-c(1,4,6)\n",
    "a"
   ]
  },
  {
   "cell_type": "code",
   "execution_count": 48,
   "metadata": {},
   "outputs": [
    {
     "data": {
      "text/html": [
       "<style>\n",
       ".list-inline {list-style: none; margin:0; padding: 0}\n",
       ".list-inline>li {display: inline-block}\n",
       ".list-inline>li:not(:last-child)::after {content: \"\\00b7\"; padding: 0 .5ex}\n",
       "</style>\n",
       "<ol class=list-inline><li>'Red'</li><li>'Green'</li></ol>\n"
      ],
      "text/latex": [
       "\\begin{enumerate*}\n",
       "\\item 'Red'\n",
       "\\item 'Green'\n",
       "\\end{enumerate*}\n"
      ],
      "text/markdown": [
       "1. 'Red'\n",
       "2. 'Green'\n",
       "\n",
       "\n"
      ],
      "text/plain": [
       "[1] \"Red\"   \"Green\""
      ]
     },
     "metadata": {},
     "output_type": "display_data"
    }
   ],
   "source": [
    "b<-c('Red','Green')\n",
    "b"
   ]
  },
  {
   "cell_type": "code",
   "execution_count": 49,
   "metadata": {},
   "outputs": [
    {
     "data": {
      "text/html": [
       "'welcome'"
      ],
      "text/latex": [
       "'welcome'"
      ],
      "text/markdown": [
       "'welcome'"
      ],
      "text/plain": [
       "[1] \"welcome\""
      ]
     },
     "metadata": {},
     "output_type": "display_data"
    }
   ],
   "source": [
    "c<-\"welcome\"\n",
    "c"
   ]
  },
  {
   "cell_type": "code",
   "execution_count": 52,
   "metadata": {},
   "outputs": [
    {
     "data": {
      "text/html": [
       "<ol>\n",
       "\t<li><style>\n",
       ".list-inline {list-style: none; margin:0; padding: 0}\n",
       ".list-inline>li {display: inline-block}\n",
       ".list-inline>li:not(:last-child)::after {content: \"\\00b7\"; padding: 0 .5ex}\n",
       "</style>\n",
       "<ol class=list-inline><li>1</li><li>4</li><li>6</li></ol>\n",
       "</li>\n",
       "\t<li><style>\n",
       ".list-inline {list-style: none; margin:0; padding: 0}\n",
       ".list-inline>li {display: inline-block}\n",
       ".list-inline>li:not(:last-child)::after {content: \"\\00b7\"; padding: 0 .5ex}\n",
       "</style>\n",
       "<ol class=list-inline><li>'Red'</li><li>'Green'</li></ol>\n",
       "</li>\n",
       "\t<li>'welcome'</li>\n",
       "</ol>\n"
      ],
      "text/latex": [
       "\\begin{enumerate}\n",
       "\\item \\begin{enumerate*}\n",
       "\\item 1\n",
       "\\item 4\n",
       "\\item 6\n",
       "\\end{enumerate*}\n",
       "\n",
       "\\item \\begin{enumerate*}\n",
       "\\item 'Red'\n",
       "\\item 'Green'\n",
       "\\end{enumerate*}\n",
       "\n",
       "\\item 'welcome'\n",
       "\\end{enumerate}\n"
      ],
      "text/markdown": [
       "1. 1. 1\n",
       "2. 4\n",
       "3. 6\n",
       "\n",
       "\n",
       "\n",
       "2. 1. 'Red'\n",
       "2. 'Green'\n",
       "\n",
       "\n",
       "\n",
       "3. 'welcome'\n",
       "\n",
       "\n"
      ],
      "text/plain": [
       "[[1]]\n",
       "[1] 1 4 6\n",
       "\n",
       "[[2]]\n",
       "[1] \"Red\"   \"Green\"\n",
       "\n",
       "[[3]]\n",
       "[1] \"welcome\"\n"
      ]
     },
     "metadata": {},
     "output_type": "display_data"
    }
   ],
   "source": [
    "my.list<-list(a,b,c)\n",
    "my.list"
   ]
  },
  {
   "cell_type": "markdown",
   "metadata": {},
   "source": [
    "Way to label each list (of a,b,c)"
   ]
  },
  {
   "cell_type": "code",
   "execution_count": 53,
   "metadata": {},
   "outputs": [
    {
     "data": {
      "text/html": [
       "<dl>\n",
       "\t<dt>$Pieces</dt>\n",
       "\t\t<dd><style>\n",
       ".list-inline {list-style: none; margin:0; padding: 0}\n",
       ".list-inline>li {display: inline-block}\n",
       ".list-inline>li:not(:last-child)::after {content: \"\\00b7\"; padding: 0 .5ex}\n",
       "</style>\n",
       "<ol class=list-inline><li>1</li><li>4</li><li>6</li></ol>\n",
       "</dd>\n",
       "\t<dt>$Colors</dt>\n",
       "\t\t<dd><style>\n",
       ".list-inline {list-style: none; margin:0; padding: 0}\n",
       ".list-inline>li {display: inline-block}\n",
       ".list-inline>li:not(:last-child)::after {content: \"\\00b7\"; padding: 0 .5ex}\n",
       "</style>\n",
       "<ol class=list-inline><li>'Red'</li><li>'Green'</li></ol>\n",
       "</dd>\n",
       "\t<dt>$Message</dt>\n",
       "\t\t<dd>'welcome'</dd>\n",
       "</dl>\n"
      ],
      "text/latex": [
       "\\begin{description}\n",
       "\\item[\\$Pieces] \\begin{enumerate*}\n",
       "\\item 1\n",
       "\\item 4\n",
       "\\item 6\n",
       "\\end{enumerate*}\n",
       "\n",
       "\\item[\\$Colors] \\begin{enumerate*}\n",
       "\\item 'Red'\n",
       "\\item 'Green'\n",
       "\\end{enumerate*}\n",
       "\n",
       "\\item[\\$Message] 'welcome'\n",
       "\\end{description}\n"
      ],
      "text/markdown": [
       "$Pieces\n",
       ":   1. 1\n",
       "2. 4\n",
       "3. 6\n",
       "\n",
       "\n",
       "\n",
       "$Colors\n",
       ":   1. 'Red'\n",
       "2. 'Green'\n",
       "\n",
       "\n",
       "\n",
       "$Message\n",
       ":   'welcome'\n",
       "\n",
       "\n"
      ],
      "text/plain": [
       "$Pieces\n",
       "[1] 1 4 6\n",
       "\n",
       "$Colors\n",
       "[1] \"Red\"   \"Green\"\n",
       "\n",
       "$Message\n",
       "[1] \"welcome\"\n"
      ]
     },
     "metadata": {},
     "output_type": "display_data"
    }
   ],
   "source": [
    "my.list.n<-list(Pieces=a, Colors=b, Message=c)\n",
    "my.list.n"
   ]
  },
  {
   "cell_type": "markdown",
   "metadata": {},
   "source": [
    "Different ways to remove to selected list"
   ]
  },
  {
   "cell_type": "code",
   "execution_count": 54,
   "metadata": {},
   "outputs": [
    {
     "data": {
      "text/html": [
       "<strong>$Pieces</strong> = <style>\n",
       ".list-inline {list-style: none; margin:0; padding: 0}\n",
       ".list-inline>li {display: inline-block}\n",
       ".list-inline>li:not(:last-child)::after {content: \"\\00b7\"; padding: 0 .5ex}\n",
       "</style>\n",
       "<ol class=list-inline><li>1</li><li>4</li><li>6</li></ol>\n"
      ],
      "text/latex": [
       "\\textbf{\\$Pieces} = \\begin{enumerate*}\n",
       "\\item 1\n",
       "\\item 4\n",
       "\\item 6\n",
       "\\end{enumerate*}\n"
      ],
      "text/markdown": [
       "**$Pieces** = 1. 1\n",
       "2. 4\n",
       "3. 6\n",
       "\n",
       "\n"
      ],
      "text/plain": [
       "$Pieces\n",
       "[1] 1 4 6\n"
      ]
     },
     "metadata": {},
     "output_type": "display_data"
    }
   ],
   "source": [
    "my.list.n[1]"
   ]
  },
  {
   "cell_type": "code",
   "execution_count": 56,
   "metadata": {},
   "outputs": [
    {
     "data": {
      "text/html": [
       "<strong>$Colors</strong> = <style>\n",
       ".list-inline {list-style: none; margin:0; padding: 0}\n",
       ".list-inline>li {display: inline-block}\n",
       ".list-inline>li:not(:last-child)::after {content: \"\\00b7\"; padding: 0 .5ex}\n",
       "</style>\n",
       "<ol class=list-inline><li>'Red'</li><li>'Green'</li></ol>\n"
      ],
      "text/latex": [
       "\\textbf{\\$Colors} = \\begin{enumerate*}\n",
       "\\item 'Red'\n",
       "\\item 'Green'\n",
       "\\end{enumerate*}\n"
      ],
      "text/markdown": [
       "**$Colors** = 1. 'Red'\n",
       "2. 'Green'\n",
       "\n",
       "\n"
      ],
      "text/plain": [
       "$Colors\n",
       "[1] \"Red\"   \"Green\"\n"
      ]
     },
     "metadata": {},
     "output_type": "display_data"
    }
   ],
   "source": [
    "my.list.n['Colors']"
   ]
  },
  {
   "cell_type": "code",
   "execution_count": 59,
   "metadata": {},
   "outputs": [
    {
     "data": {
      "text/html": [
       "'welcome'"
      ],
      "text/latex": [
       "'welcome'"
      ],
      "text/markdown": [
       "'welcome'"
      ],
      "text/plain": [
       "[1] \"welcome\""
      ]
     },
     "metadata": {},
     "output_type": "display_data"
    }
   ],
   "source": [
    "my.list.n$Message"
   ]
  },
  {
   "cell_type": "markdown",
   "metadata": {},
   "source": [
    "MATRIX EXPLAINED"
   ]
  },
  {
   "cell_type": "markdown",
   "metadata": {},
   "source": [
    "Matrix:2 dimensional data but Vector: 1 dimensional data\n",
    "Matrix helps to create tables of data"
   ]
  },
  {
   "cell_type": "code",
   "execution_count": 11,
   "metadata": {},
   "outputs": [
    {
     "data": {
      "text/html": [
       "<style>\n",
       ".list-inline {list-style: none; margin:0; padding: 0}\n",
       ".list-inline>li {display: inline-block}\n",
       ".list-inline>li:not(:last-child)::after {content: \"\\00b7\"; padding: 0 .5ex}\n",
       "</style>\n",
       "<ol class=list-inline><li>20</li><li>24</li><li>46</li><li>62</li><li>22</li><li>37</li><li>45</li><li>27</li><li>65</li><li>23</li></ol>\n"
      ],
      "text/latex": [
       "\\begin{enumerate*}\n",
       "\\item 20\n",
       "\\item 24\n",
       "\\item 46\n",
       "\\item 62\n",
       "\\item 22\n",
       "\\item 37\n",
       "\\item 45\n",
       "\\item 27\n",
       "\\item 65\n",
       "\\item 23\n",
       "\\end{enumerate*}\n"
      ],
      "text/markdown": [
       "1. 20\n",
       "2. 24\n",
       "3. 46\n",
       "4. 62\n",
       "5. 22\n",
       "6. 37\n",
       "7. 45\n",
       "8. 27\n",
       "9. 65\n",
       "10. 23\n",
       "\n",
       "\n"
      ],
      "text/plain": [
       " [1] 20 24 46 62 22 37 45 27 65 23"
      ]
     },
     "metadata": {},
     "output_type": "display_data"
    }
   ],
   "source": [
    "stu.hours<-c(20,24,46,62,22,37,45,27,65,23)\n",
    "stu.hours"
   ]
  },
  {
   "cell_type": "code",
   "execution_count": 3,
   "metadata": {},
   "outputs": [
    {
     "data": {
      "text/html": [
       "<style>\n",
       ".list-inline {list-style: none; margin:0; padding: 0}\n",
       ".list-inline>li {display: inline-block}\n",
       ".list-inline>li:not(:last-child)::after {content: \"\\00b7\"; padding: 0 .5ex}\n",
       "</style>\n",
       "<ol class=list-inline><li>40</li><li>55</li><li>69</li><li>83</li><li>27</li><li>44</li><li>61</li><li>33</li><li>71</li><li>37</li></ol>\n"
      ],
      "text/latex": [
       "\\begin{enumerate*}\n",
       "\\item 40\n",
       "\\item 55\n",
       "\\item 69\n",
       "\\item 83\n",
       "\\item 27\n",
       "\\item 44\n",
       "\\item 61\n",
       "\\item 33\n",
       "\\item 71\n",
       "\\item 37\n",
       "\\end{enumerate*}\n"
      ],
      "text/markdown": [
       "1. 40\n",
       "2. 55\n",
       "3. 69\n",
       "4. 83\n",
       "5. 27\n",
       "6. 44\n",
       "7. 61\n",
       "8. 33\n",
       "9. 71\n",
       "10. 37\n",
       "\n",
       "\n"
      ],
      "text/plain": [
       " [1] 40 55 69 83 27 44 61 33 71 37"
      ]
     },
     "metadata": {},
     "output_type": "display_data"
    }
   ],
   "source": [
    "stu.marks<-c(40,55,69,83,27,44,61,33,71,37)\n",
    "stu.marks"
   ]
  },
  {
   "cell_type": "code",
   "execution_count": 12,
   "metadata": {},
   "outputs": [
    {
     "data": {
      "text/html": [
       "<table>\n",
       "<caption>A matrix: 10 × 1 of type dbl</caption>\n",
       "<tbody>\n",
       "\t<tr><td>20</td></tr>\n",
       "\t<tr><td>24</td></tr>\n",
       "\t<tr><td>46</td></tr>\n",
       "\t<tr><td>62</td></tr>\n",
       "\t<tr><td>22</td></tr>\n",
       "\t<tr><td>37</td></tr>\n",
       "\t<tr><td>45</td></tr>\n",
       "\t<tr><td>27</td></tr>\n",
       "\t<tr><td>65</td></tr>\n",
       "\t<tr><td>23</td></tr>\n",
       "</tbody>\n",
       "</table>\n"
      ],
      "text/latex": [
       "A matrix: 10 × 1 of type dbl\n",
       "\\begin{tabular}{l}\n",
       "\t 20\\\\\n",
       "\t 24\\\\\n",
       "\t 46\\\\\n",
       "\t 62\\\\\n",
       "\t 22\\\\\n",
       "\t 37\\\\\n",
       "\t 45\\\\\n",
       "\t 27\\\\\n",
       "\t 65\\\\\n",
       "\t 23\\\\\n",
       "\\end{tabular}\n"
      ],
      "text/markdown": [
       "\n",
       "A matrix: 10 × 1 of type dbl\n",
       "\n",
       "| 20 |\n",
       "| 24 |\n",
       "| 46 |\n",
       "| 62 |\n",
       "| 22 |\n",
       "| 37 |\n",
       "| 45 |\n",
       "| 27 |\n",
       "| 65 |\n",
       "| 23 |\n",
       "\n"
      ],
      "text/plain": [
       "      [,1]\n",
       " [1,] 20  \n",
       " [2,] 24  \n",
       " [3,] 46  \n",
       " [4,] 62  \n",
       " [5,] 22  \n",
       " [6,] 37  \n",
       " [7,] 45  \n",
       " [8,] 27  \n",
       " [9,] 65  \n",
       "[10,] 23  "
      ]
     },
     "metadata": {},
     "output_type": "display_data"
    }
   ],
   "source": [
    "stu.matrix<-matrix(stu.hours)\n",
    "stu.matrix"
   ]
  },
  {
   "cell_type": "markdown",
   "metadata": {},
   "source": [
    "Above shows data of hours in tabular form"
   ]
  },
  {
   "cell_type": "code",
   "execution_count": 13,
   "metadata": {},
   "outputs": [
    {
     "data": {
      "text/html": [
       "<style>\n",
       ".list-inline {list-style: none; margin:0; padding: 0}\n",
       ".list-inline>li {display: inline-block}\n",
       ".list-inline>li:not(:last-child)::after {content: \"\\00b7\"; padding: 0 .5ex}\n",
       "</style>\n",
       "<ol class=list-inline><li>20</li><li>24</li><li>46</li><li>62</li><li>22</li><li>37</li><li>45</li><li>27</li><li>65</li><li>23</li><li>40</li><li>55</li><li>69</li><li>83</li><li>27</li><li>44</li><li>61</li><li>33</li><li>71</li><li>37</li></ol>\n"
      ],
      "text/latex": [
       "\\begin{enumerate*}\n",
       "\\item 20\n",
       "\\item 24\n",
       "\\item 46\n",
       "\\item 62\n",
       "\\item 22\n",
       "\\item 37\n",
       "\\item 45\n",
       "\\item 27\n",
       "\\item 65\n",
       "\\item 23\n",
       "\\item 40\n",
       "\\item 55\n",
       "\\item 69\n",
       "\\item 83\n",
       "\\item 27\n",
       "\\item 44\n",
       "\\item 61\n",
       "\\item 33\n",
       "\\item 71\n",
       "\\item 37\n",
       "\\end{enumerate*}\n"
      ],
      "text/markdown": [
       "1. 20\n",
       "2. 24\n",
       "3. 46\n",
       "4. 62\n",
       "5. 22\n",
       "6. 37\n",
       "7. 45\n",
       "8. 27\n",
       "9. 65\n",
       "10. 23\n",
       "11. 40\n",
       "12. 55\n",
       "13. 69\n",
       "14. 83\n",
       "15. 27\n",
       "16. 44\n",
       "17. 61\n",
       "18. 33\n",
       "19. 71\n",
       "20. 37\n",
       "\n",
       "\n"
      ],
      "text/plain": [
       " [1] 20 24 46 62 22 37 45 27 65 23 40 55 69 83 27 44 61 33 71 37"
      ]
     },
     "metadata": {},
     "output_type": "display_data"
    }
   ],
   "source": [
    "stu.data<-c(stu.hours,stu.marks)\n",
    "stu.data"
   ]
  },
  {
   "cell_type": "markdown",
   "metadata": {},
   "source": [
    "Above shows data of hours and marks together"
   ]
  },
  {
   "cell_type": "code",
   "execution_count": 14,
   "metadata": {},
   "outputs": [
    {
     "data": {
      "text/html": [
       "<table>\n",
       "<caption>A matrix: 20 × 1 of type dbl</caption>\n",
       "<tbody>\n",
       "\t<tr><td>20</td></tr>\n",
       "\t<tr><td>24</td></tr>\n",
       "\t<tr><td>46</td></tr>\n",
       "\t<tr><td>62</td></tr>\n",
       "\t<tr><td>22</td></tr>\n",
       "\t<tr><td>37</td></tr>\n",
       "\t<tr><td>45</td></tr>\n",
       "\t<tr><td>27</td></tr>\n",
       "\t<tr><td>65</td></tr>\n",
       "\t<tr><td>23</td></tr>\n",
       "\t<tr><td>40</td></tr>\n",
       "\t<tr><td>55</td></tr>\n",
       "\t<tr><td>69</td></tr>\n",
       "\t<tr><td>83</td></tr>\n",
       "\t<tr><td>27</td></tr>\n",
       "\t<tr><td>44</td></tr>\n",
       "\t<tr><td>61</td></tr>\n",
       "\t<tr><td>33</td></tr>\n",
       "\t<tr><td>71</td></tr>\n",
       "\t<tr><td>37</td></tr>\n",
       "</tbody>\n",
       "</table>\n"
      ],
      "text/latex": [
       "A matrix: 20 × 1 of type dbl\n",
       "\\begin{tabular}{l}\n",
       "\t 20\\\\\n",
       "\t 24\\\\\n",
       "\t 46\\\\\n",
       "\t 62\\\\\n",
       "\t 22\\\\\n",
       "\t 37\\\\\n",
       "\t 45\\\\\n",
       "\t 27\\\\\n",
       "\t 65\\\\\n",
       "\t 23\\\\\n",
       "\t 40\\\\\n",
       "\t 55\\\\\n",
       "\t 69\\\\\n",
       "\t 83\\\\\n",
       "\t 27\\\\\n",
       "\t 44\\\\\n",
       "\t 61\\\\\n",
       "\t 33\\\\\n",
       "\t 71\\\\\n",
       "\t 37\\\\\n",
       "\\end{tabular}\n"
      ],
      "text/markdown": [
       "\n",
       "A matrix: 20 × 1 of type dbl\n",
       "\n",
       "| 20 |\n",
       "| 24 |\n",
       "| 46 |\n",
       "| 62 |\n",
       "| 22 |\n",
       "| 37 |\n",
       "| 45 |\n",
       "| 27 |\n",
       "| 65 |\n",
       "| 23 |\n",
       "| 40 |\n",
       "| 55 |\n",
       "| 69 |\n",
       "| 83 |\n",
       "| 27 |\n",
       "| 44 |\n",
       "| 61 |\n",
       "| 33 |\n",
       "| 71 |\n",
       "| 37 |\n",
       "\n"
      ],
      "text/plain": [
       "      [,1]\n",
       " [1,] 20  \n",
       " [2,] 24  \n",
       " [3,] 46  \n",
       " [4,] 62  \n",
       " [5,] 22  \n",
       " [6,] 37  \n",
       " [7,] 45  \n",
       " [8,] 27  \n",
       " [9,] 65  \n",
       "[10,] 23  \n",
       "[11,] 40  \n",
       "[12,] 55  \n",
       "[13,] 69  \n",
       "[14,] 83  \n",
       "[15,] 27  \n",
       "[16,] 44  \n",
       "[17,] 61  \n",
       "[18,] 33  \n",
       "[19,] 71  \n",
       "[20,] 37  "
      ]
     },
     "metadata": {},
     "output_type": "display_data"
    }
   ],
   "source": [
    "stu.matrix<-matrix(stu.data)\n",
    "stu.matrix"
   ]
  },
  {
   "cell_type": "markdown",
   "metadata": {},
   "source": [
    "Single column which shows data of both hours and marks but we need 2 tables "
   ]
  },
  {
   "cell_type": "code",
   "execution_count": 15,
   "metadata": {},
   "outputs": [
    {
     "data": {
      "text/html": [
       "<table>\n",
       "<caption>A matrix: 10 × 2 of type dbl</caption>\n",
       "<tbody>\n",
       "\t<tr><td>20</td><td>40</td></tr>\n",
       "\t<tr><td>24</td><td>55</td></tr>\n",
       "\t<tr><td>46</td><td>69</td></tr>\n",
       "\t<tr><td>62</td><td>83</td></tr>\n",
       "\t<tr><td>22</td><td>27</td></tr>\n",
       "\t<tr><td>37</td><td>44</td></tr>\n",
       "\t<tr><td>45</td><td>61</td></tr>\n",
       "\t<tr><td>27</td><td>33</td></tr>\n",
       "\t<tr><td>65</td><td>71</td></tr>\n",
       "\t<tr><td>23</td><td>37</td></tr>\n",
       "</tbody>\n",
       "</table>\n"
      ],
      "text/latex": [
       "A matrix: 10 × 2 of type dbl\n",
       "\\begin{tabular}{ll}\n",
       "\t 20 & 40\\\\\n",
       "\t 24 & 55\\\\\n",
       "\t 46 & 69\\\\\n",
       "\t 62 & 83\\\\\n",
       "\t 22 & 27\\\\\n",
       "\t 37 & 44\\\\\n",
       "\t 45 & 61\\\\\n",
       "\t 27 & 33\\\\\n",
       "\t 65 & 71\\\\\n",
       "\t 23 & 37\\\\\n",
       "\\end{tabular}\n"
      ],
      "text/markdown": [
       "\n",
       "A matrix: 10 × 2 of type dbl\n",
       "\n",
       "| 20 | 40 |\n",
       "| 24 | 55 |\n",
       "| 46 | 69 |\n",
       "| 62 | 83 |\n",
       "| 22 | 27 |\n",
       "| 37 | 44 |\n",
       "| 45 | 61 |\n",
       "| 27 | 33 |\n",
       "| 65 | 71 |\n",
       "| 23 | 37 |\n",
       "\n"
      ],
      "text/plain": [
       "      [,1] [,2]\n",
       " [1,] 20   40  \n",
       " [2,] 24   55  \n",
       " [3,] 46   69  \n",
       " [4,] 62   83  \n",
       " [5,] 22   27  \n",
       " [6,] 37   44  \n",
       " [7,] 45   61  \n",
       " [8,] 27   33  \n",
       " [9,] 65   71  \n",
       "[10,] 23   37  "
      ]
     },
     "metadata": {},
     "output_type": "display_data"
    }
   ],
   "source": [
    "stu.matrix<-matrix(stu.data,nrow=10)\n",
    "stu.matrix"
   ]
  },
  {
   "cell_type": "markdown",
   "metadata": {},
   "source": [
    "Selected 10 because there are 10 values for hours and 10 values for marks\n",
    "The left column is hours and right column is marks"
   ]
  },
  {
   "cell_type": "code",
   "execution_count": 16,
   "metadata": {},
   "outputs": [
    {
     "data": {
      "text/html": [
       "<table>\n",
       "<caption>A matrix: 10 × 2 of type dbl</caption>\n",
       "<tbody>\n",
       "\t<tr><td>20</td><td>24</td></tr>\n",
       "\t<tr><td>46</td><td>62</td></tr>\n",
       "\t<tr><td>22</td><td>37</td></tr>\n",
       "\t<tr><td>45</td><td>27</td></tr>\n",
       "\t<tr><td>65</td><td>23</td></tr>\n",
       "\t<tr><td>40</td><td>55</td></tr>\n",
       "\t<tr><td>69</td><td>83</td></tr>\n",
       "\t<tr><td>27</td><td>44</td></tr>\n",
       "\t<tr><td>61</td><td>33</td></tr>\n",
       "\t<tr><td>71</td><td>37</td></tr>\n",
       "</tbody>\n",
       "</table>\n"
      ],
      "text/latex": [
       "A matrix: 10 × 2 of type dbl\n",
       "\\begin{tabular}{ll}\n",
       "\t 20 & 24\\\\\n",
       "\t 46 & 62\\\\\n",
       "\t 22 & 37\\\\\n",
       "\t 45 & 27\\\\\n",
       "\t 65 & 23\\\\\n",
       "\t 40 & 55\\\\\n",
       "\t 69 & 83\\\\\n",
       "\t 27 & 44\\\\\n",
       "\t 61 & 33\\\\\n",
       "\t 71 & 37\\\\\n",
       "\\end{tabular}\n"
      ],
      "text/markdown": [
       "\n",
       "A matrix: 10 × 2 of type dbl\n",
       "\n",
       "| 20 | 24 |\n",
       "| 46 | 62 |\n",
       "| 22 | 37 |\n",
       "| 45 | 27 |\n",
       "| 65 | 23 |\n",
       "| 40 | 55 |\n",
       "| 69 | 83 |\n",
       "| 27 | 44 |\n",
       "| 61 | 33 |\n",
       "| 71 | 37 |\n",
       "\n"
      ],
      "text/plain": [
       "      [,1] [,2]\n",
       " [1,] 20   24  \n",
       " [2,] 46   62  \n",
       " [3,] 22   37  \n",
       " [4,] 45   27  \n",
       " [5,] 65   23  \n",
       " [6,] 40   55  \n",
       " [7,] 69   83  \n",
       " [8,] 27   44  \n",
       " [9,] 61   33  \n",
       "[10,] 71   37  "
      ]
     },
     "metadata": {},
     "output_type": "display_data"
    }
   ],
   "source": [
    "stu.matrix<-matrix(stu.data,byrow=T,nrow=10)\n",
    "stu.matrix"
   ]
  },
  {
   "cell_type": "markdown",
   "metadata": {},
   "source": [
    "Above data shows hours and marks BUTTTTT the top 5 rows shows hours data and bottom 5 rows shows marks data\n",
    "CHECK byrow=T (True); if you type false, the data will again show like the data in 15"
   ]
  },
  {
   "cell_type": "code",
   "execution_count": 17,
   "metadata": {},
   "outputs": [
    {
     "data": {
      "text/html": [
       "<table>\n",
       "<caption>A matrix: 10 × 2 of type dbl</caption>\n",
       "<tbody>\n",
       "\t<tr><td>20</td><td>40</td></tr>\n",
       "\t<tr><td>24</td><td>55</td></tr>\n",
       "\t<tr><td>46</td><td>69</td></tr>\n",
       "\t<tr><td>62</td><td>83</td></tr>\n",
       "\t<tr><td>22</td><td>27</td></tr>\n",
       "\t<tr><td>37</td><td>44</td></tr>\n",
       "\t<tr><td>45</td><td>61</td></tr>\n",
       "\t<tr><td>27</td><td>33</td></tr>\n",
       "\t<tr><td>65</td><td>71</td></tr>\n",
       "\t<tr><td>23</td><td>37</td></tr>\n",
       "</tbody>\n",
       "</table>\n"
      ],
      "text/latex": [
       "A matrix: 10 × 2 of type dbl\n",
       "\\begin{tabular}{ll}\n",
       "\t 20 & 40\\\\\n",
       "\t 24 & 55\\\\\n",
       "\t 46 & 69\\\\\n",
       "\t 62 & 83\\\\\n",
       "\t 22 & 27\\\\\n",
       "\t 37 & 44\\\\\n",
       "\t 45 & 61\\\\\n",
       "\t 27 & 33\\\\\n",
       "\t 65 & 71\\\\\n",
       "\t 23 & 37\\\\\n",
       "\\end{tabular}\n"
      ],
      "text/markdown": [
       "\n",
       "A matrix: 10 × 2 of type dbl\n",
       "\n",
       "| 20 | 40 |\n",
       "| 24 | 55 |\n",
       "| 46 | 69 |\n",
       "| 62 | 83 |\n",
       "| 22 | 27 |\n",
       "| 37 | 44 |\n",
       "| 45 | 61 |\n",
       "| 27 | 33 |\n",
       "| 65 | 71 |\n",
       "| 23 | 37 |\n",
       "\n"
      ],
      "text/plain": [
       "      [,1] [,2]\n",
       " [1,] 20   40  \n",
       " [2,] 24   55  \n",
       " [3,] 46   69  \n",
       " [4,] 62   83  \n",
       " [5,] 22   27  \n",
       " [6,] 37   44  \n",
       " [7,] 45   61  \n",
       " [8,] 27   33  \n",
       " [9,] 65   71  \n",
       "[10,] 23   37  "
      ]
     },
     "metadata": {},
     "output_type": "display_data"
    }
   ],
   "source": [
    "stu.matrix<-matrix(stu.data,byrow=F,nrow=10)\n",
    "stu.matrix"
   ]
  },
  {
   "cell_type": "markdown",
   "metadata": {},
   "source": [
    "Now how to label the columns?"
   ]
  },
  {
   "cell_type": "code",
   "execution_count": 19,
   "metadata": {},
   "outputs": [
    {
     "data": {
      "text/html": [
       "<table>\n",
       "<caption>A matrix: 10 × 2 of type dbl</caption>\n",
       "<thead>\n",
       "\t<tr><th></th><th scope=col>Hours</th><th scope=col>Marks</th></tr>\n",
       "</thead>\n",
       "<tbody>\n",
       "\t<tr><th scope=row>1</th><td>20</td><td>40</td></tr>\n",
       "\t<tr><th scope=row>2</th><td>24</td><td>55</td></tr>\n",
       "\t<tr><th scope=row>3</th><td>46</td><td>69</td></tr>\n",
       "\t<tr><th scope=row>4</th><td>62</td><td>83</td></tr>\n",
       "\t<tr><th scope=row>5</th><td>22</td><td>27</td></tr>\n",
       "\t<tr><th scope=row>6</th><td>37</td><td>44</td></tr>\n",
       "\t<tr><th scope=row>7</th><td>45</td><td>61</td></tr>\n",
       "\t<tr><th scope=row>8</th><td>27</td><td>33</td></tr>\n",
       "\t<tr><th scope=row>9</th><td>65</td><td>71</td></tr>\n",
       "\t<tr><th scope=row>10</th><td>23</td><td>37</td></tr>\n",
       "</tbody>\n",
       "</table>\n"
      ],
      "text/latex": [
       "A matrix: 10 × 2 of type dbl\n",
       "\\begin{tabular}{r|ll}\n",
       "  & Hours & Marks\\\\\n",
       "\\hline\n",
       "\t1 & 20 & 40\\\\\n",
       "\t2 & 24 & 55\\\\\n",
       "\t3 & 46 & 69\\\\\n",
       "\t4 & 62 & 83\\\\\n",
       "\t5 & 22 & 27\\\\\n",
       "\t6 & 37 & 44\\\\\n",
       "\t7 & 45 & 61\\\\\n",
       "\t8 & 27 & 33\\\\\n",
       "\t9 & 65 & 71\\\\\n",
       "\t10 & 23 & 37\\\\\n",
       "\\end{tabular}\n"
      ],
      "text/markdown": [
       "\n",
       "A matrix: 10 × 2 of type dbl\n",
       "\n",
       "| <!--/--> | Hours | Marks |\n",
       "|---|---|---|\n",
       "| 1 | 20 | 40 |\n",
       "| 2 | 24 | 55 |\n",
       "| 3 | 46 | 69 |\n",
       "| 4 | 62 | 83 |\n",
       "| 5 | 22 | 27 |\n",
       "| 6 | 37 | 44 |\n",
       "| 7 | 45 | 61 |\n",
       "| 8 | 27 | 33 |\n",
       "| 9 | 65 | 71 |\n",
       "| 10 | 23 | 37 |\n",
       "\n"
      ],
      "text/plain": [
       "   Hours Marks\n",
       "1  20    40   \n",
       "2  24    55   \n",
       "3  46    69   \n",
       "4  62    83   \n",
       "5  22    27   \n",
       "6  37    44   \n",
       "7  45    61   \n",
       "8  27    33   \n",
       "9  65    71   \n",
       "10 23    37   "
      ]
     },
     "metadata": {},
     "output_type": "display_data"
    }
   ],
   "source": [
    "colnames(stu.matrix)<-c('Hours','Marks')\n",
    "rownames(stu.matrix)<-c(1:10)\n",
    "stu.matrix"
   ]
  },
  {
   "cell_type": "markdown",
   "metadata": {},
   "source": [
    "IFYOU DONT WANT TO USE MATRIX THEN YOU CAN IMPORT THE FILE AS EXCEL (csv file)"
   ]
  },
  {
   "cell_type": "markdown",
   "metadata": {},
   "source": [
    "read.csv('Student Marks.csv')\n",
    "\n",
    "IF YOU WANT TO IMPORT DATA FROM EXCEL (csv file), ABOVE IS THE COMMAND"
   ]
  },
  {
   "cell_type": "markdown",
   "metadata": {},
   "source": [
    "BELOW, will allow to tell which value is present in a particular rowand column resp."
   ]
  },
  {
   "cell_type": "code",
   "execution_count": 22,
   "metadata": {},
   "outputs": [
    {
     "data": {
      "text/html": [
       "83"
      ],
      "text/latex": [
       "83"
      ],
      "text/markdown": [
       "83"
      ],
      "text/plain": [
       "[1] 83"
      ]
     },
     "metadata": {},
     "output_type": "display_data"
    }
   ],
   "source": [
    "stu.matrix[4,2]"
   ]
  },
  {
   "cell_type": "code",
   "execution_count": null,
   "metadata": {},
   "outputs": [],
   "source": []
  }
 ],
 "metadata": {
  "kernelspec": {
   "display_name": "R",
   "language": "R",
   "name": "ir"
  },
  "language_info": {
   "codemirror_mode": "r",
   "file_extension": ".r",
   "mimetype": "text/x-r-source",
   "name": "R",
   "pygments_lexer": "r",
   "version": "3.6.3"
  }
 },
 "nbformat": 4,
 "nbformat_minor": 4
}
